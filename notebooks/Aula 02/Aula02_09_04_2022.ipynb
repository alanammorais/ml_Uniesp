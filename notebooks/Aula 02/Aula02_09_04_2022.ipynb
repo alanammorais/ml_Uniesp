{
  "nbformat": 4,
  "nbformat_minor": 0,
  "metadata": {
    "colab": {
      "name": "Aula02_09_04_2022.ipynb",
      "provenance": []
    },
    "kernelspec": {
      "name": "python3",
      "display_name": "Python 3"
    },
    "language_info": {
      "name": "python"
    }
  },
  "cells": [
    {
      "cell_type": "markdown",
      "source": [
        "## Modelo Classificação de animais - cachorro e porco\n",
        "### Aula 09/04/2022"
      ],
      "metadata": {
        "id": "7ND53jhbQe-u"
      }
    },
    {
      "cell_type": "code",
      "execution_count": null,
      "metadata": {
        "id": "GWy8wBbQQRxw"
      },
      "outputs": [],
      "source": [
        "# features (1 sim, 0 não)\n",
        "# pelo longo? 1- longo e 0- curto\n",
        "# perna curta? 1- curta e 0- longa\n",
        "# faz auau? 1- late e 0- não late\n",
        "\n",
        "\n",
        "## Dados treinamento\n",
        "porco1 = [0, 1, 0]\n",
        "porco2 = [0, 1, 1]\n",
        "porco3 = [1, 1, 0]\n",
        "\n",
        "cachorro1 = [0, 1, 1]\n",
        "cachorro2 = [1, 0, 1]\n",
        "cachorro3 = [1, 1, 1]"
      ]
    },
    {
      "cell_type": "code",
      "source": [
        "# 1 => porco, 0 => cachorro\n",
        "dados = [\n",
        "         porco1, \n",
        "         porco2, \n",
        "         porco3, \n",
        "         cachorro1, \n",
        "         cachorro2, \n",
        "         cachorro3\n",
        "        ]\n",
        "\n",
        "classes = [1, 1, 1, 0, 0, 0]"
      ],
      "metadata": {
        "id": "nSURolF9R7g3"
      },
      "execution_count": null,
      "outputs": []
    },
    {
      "cell_type": "code",
      "source": [
        "classes"
      ],
      "metadata": {
        "colab": {
          "base_uri": "https://localhost:8080/"
        },
        "id": "Z2lr0FyzTMiJ",
        "outputId": "96c11ce6-64c0-429d-cb2e-2f07f604574c"
      },
      "execution_count": null,
      "outputs": [
        {
          "output_type": "execute_result",
          "data": {
            "text/plain": [
              "[1, 1, 1, 0, 0, 0]"
            ]
          },
          "metadata": {},
          "execution_count": 4
        }
      ]
    },
    {
      "cell_type": "markdown",
      "source": [
        "## Criar e treinar o modelo"
      ],
      "metadata": {
        "id": "-Lq060d6WCf0"
      }
    },
    {
      "cell_type": "code",
      "source": [
        "from sklearn.svm import LinearSVC\n",
        "\n",
        "model = LinearSVC()"
      ],
      "metadata": {
        "id": "9oyJ1PpcWNHh"
      },
      "execution_count": null,
      "outputs": []
    },
    {
      "cell_type": "code",
      "source": [
        "model.fit(dados, classes)"
      ],
      "metadata": {
        "colab": {
          "base_uri": "https://localhost:8080/"
        },
        "id": "ftyJogseWYSY",
        "outputId": "bb9a244c-d7fc-4f84-c490-95ddc5592111"
      },
      "execution_count": null,
      "outputs": [
        {
          "output_type": "execute_result",
          "data": {
            "text/plain": [
              "LinearSVC()"
            ]
          },
          "metadata": {},
          "execution_count": 7
        }
      ]
    },
    {
      "cell_type": "markdown",
      "source": [
        "## Teste - Predizer/Classificar com novos dados"
      ],
      "metadata": {
        "id": "5w0y9bwcXhxc"
      }
    },
    {
      "cell_type": "code",
      "source": [
        "animal_misterioso = [[1, 1, 1]]\n",
        "previsoes = model.predict(animal_misterioso) \n",
        "\n",
        "# 0 - cachorro , 1- porco\n",
        "print(previsoes)"
      ],
      "metadata": {
        "colab": {
          "base_uri": "https://localhost:8080/"
        },
        "id": "QGDYFuD7Xn2D",
        "outputId": "93e94a1e-d7ae-4f78-acce-7ff27f4d7484"
      },
      "execution_count": null,
      "outputs": [
        {
          "output_type": "stream",
          "name": "stdout",
          "text": [
            "[0]\n"
          ]
        }
      ]
    },
    {
      "cell_type": "markdown",
      "source": [
        "### Avaliações"
      ],
      "metadata": {
        "id": "QZDlJZLSZgS-"
      }
    },
    {
      "cell_type": "code",
      "source": [
        "# resultados reais = [0, 1, 1]\n",
        "# resultado foi [0, 1, 0]\n",
        "\n",
        "testes = [[1, 1, 1], [0, 0, 0], [0, 0, 1]]\n",
        "previsoes = model.predict(testes) \n",
        "testes_classes = [0, 1, 1] # 0 - cachorro , 1- porco\n",
        "print (previsoes)"
      ],
      "metadata": {
        "colab": {
          "base_uri": "https://localhost:8080/"
        },
        "id": "Yy3Cgh8aY98y",
        "outputId": "5c928d6c-516a-45b9-b762-f5e7b65e5794"
      },
      "execution_count": null,
      "outputs": [
        {
          "output_type": "stream",
          "name": "stdout",
          "text": [
            "[0 1 0]\n"
          ]
        }
      ]
    },
    {
      "cell_type": "code",
      "source": [
        "corretos = (previsoes == testes_classes).sum()\n",
        "total = len(testes)\n",
        "taxa_de_acerto = corretos/total\n",
        "print(\"Taxa de acerto \", taxa_de_acerto *100)"
      ],
      "metadata": {
        "colab": {
          "base_uri": "https://localhost:8080/"
        },
        "id": "jrm2GmKoY-Cw",
        "outputId": "559e1be5-b988-4da7-cc6a-49a204064956"
      },
      "execution_count": null,
      "outputs": [
        {
          "output_type": "stream",
          "name": "stdout",
          "text": [
            "Taxa de acerto  66.66666666666666\n"
          ]
        }
      ]
    },
    {
      "cell_type": "code",
      "source": [
        "taxa_erro = 1 - taxa_de_acerto\n",
        "print(\"Taxa de erro \", taxa_erro*100)\n"
      ],
      "metadata": {
        "colab": {
          "base_uri": "https://localhost:8080/"
        },
        "id": "FGwD55yoaKTW",
        "outputId": "97fa9f2f-fe33-483b-8914-16caa55438ca"
      },
      "execution_count": null,
      "outputs": [
        {
          "output_type": "stream",
          "name": "stdout",
          "text": [
            "Taxa de erro  33.333333333333336\n"
          ]
        }
      ]
    },
    {
      "cell_type": "code",
      "source": [
        "from sklearn.metrics import accuracy_score\n",
        "\n",
        "taxa_acerto = accuracy_score(testes_classes, previsoes)\n",
        "taxa_acerto"
      ],
      "metadata": {
        "colab": {
          "base_uri": "https://localhost:8080/"
        },
        "id": "CiyUcZ0wbDLX",
        "outputId": "ca24f072-23d6-4e0d-e63d-269f8e210667"
      },
      "execution_count": null,
      "outputs": [
        {
          "output_type": "execute_result",
          "data": {
            "text/plain": [
              "0.6666666666666666"
            ]
          },
          "metadata": {},
          "execution_count": 21
        }
      ]
    },
    {
      "cell_type": "code",
      "source": [
        "from sklearn.metrics import confusion_matrix\n",
        "\n",
        "print(confusion_matrix(testes_classes, previsoes))"
      ],
      "metadata": {
        "colab": {
          "base_uri": "https://localhost:8080/"
        },
        "id": "8G24_TPOcQHl",
        "outputId": "d421291f-08f8-4a8c-b1db-a09d4593dee7"
      },
      "execution_count": null,
      "outputs": [
        {
          "output_type": "stream",
          "name": "stdout",
          "text": [
            "[[1 0]\n",
            " [1 1]]\n"
          ]
        }
      ]
    },
    {
      "cell_type": "code",
      "source": [
        "# 0 - cachorro , 1- porco\n",
        "\n",
        "[[1 0]\n",
        " [1 1]]"
      ],
      "metadata": {
        "id": "8uR08SAgcp2f"
      },
      "execution_count": null,
      "outputs": []
    }
  ]
}
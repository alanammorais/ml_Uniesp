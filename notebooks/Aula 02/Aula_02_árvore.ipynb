{
  "nbformat": 4,
  "nbformat_minor": 0,
  "metadata": {
    "colab": {
      "name": "Aula 02_árvore.ipynb",
      "provenance": []
    },
    "kernelspec": {
      "name": "python3",
      "display_name": "Python 3"
    },
    "language_info": {
      "name": "python"
    }
  },
  "cells": [
    {
      "cell_type": "markdown",
      "source": [
        "### Exemplo de Árvore\n",
        "#### Aula 09/04/2022\n",
        "#### Flor de Iris"
      ],
      "metadata": {
        "id": "VYfVuR-Eq4au"
      }
    },
    {
      "cell_type": "code",
      "execution_count": null,
      "metadata": {
        "id": "QQdeN_1FeUc5"
      },
      "outputs": [],
      "source": [
        "import pandas as pd\n",
        "\n",
        "\n",
        "uri = \"https://raw.githubusercontent.com/alanammorais/ml_Uniesp/master/datasets/Aula%2002/iris/iris_data.csv\"\n",
        "dados = pd.read_csv(uri)"
      ]
    },
    {
      "cell_type": "code",
      "source": [
        "dados.columns"
      ],
      "metadata": {
        "colab": {
          "base_uri": "https://localhost:8080/"
        },
        "id": "I0kHmZjOu6in",
        "outputId": "3d61585c-87d9-494f-dba4-01a3b8ec76fd"
      },
      "execution_count": null,
      "outputs": [
        {
          "output_type": "execute_result",
          "data": {
            "text/plain": [
              "Index(['sepal_length', 'sepal_width', 'petal_length', 'petal_width', 'class '], dtype='object')"
            ]
          },
          "metadata": {},
          "execution_count": 2
        }
      ]
    },
    {
      "cell_type": "code",
      "source": [
        "(dados['class ']).unique()"
      ],
      "metadata": {
        "colab": {
          "base_uri": "https://localhost:8080/"
        },
        "id": "LueHlJtrvB1J",
        "outputId": "3c8797dc-9a57-4433-e759-1015f7f7d439"
      },
      "execution_count": null,
      "outputs": [
        {
          "output_type": "execute_result",
          "data": {
            "text/plain": [
              "array(['Iris-setosa', 'Iris-versicolor', 'Iris-virginica'], dtype=object)"
            ]
          },
          "metadata": {},
          "execution_count": 3
        }
      ]
    },
    {
      "cell_type": "code",
      "source": [
        "nome_colunas = {\n",
        "    \"sepal_length\" : \"tamanho_sepala\",\n",
        "    \"sepal_width\" : \"largura_sepala\",\n",
        "    \"petal_length\" : \"tamanho_petala\",\n",
        "    \"petal_width\" : \"largura_petala\",\n",
        "    \"class \": \"tipo\"\n",
        "  }\n",
        "\n",
        "dados = dados.rename(columns = nome_colunas)\n",
        "\n",
        "dados"
      ],
      "metadata": {
        "colab": {
          "base_uri": "https://localhost:8080/",
          "height": 424
        },
        "id": "XAM1sX5EvB2t",
        "outputId": "f2eb2aa3-e0bd-4bc2-81f1-fd9b7ed181d8"
      },
      "execution_count": null,
      "outputs": [
        {
          "output_type": "execute_result",
          "data": {
            "text/plain": [
              "     tamanho_sepala  largura_sepala  tamanho_petala  largura_petala  \\\n",
              "0               5.1             3.5             1.4             0.2   \n",
              "1               4.9             3.0             1.4             0.2   \n",
              "2               4.7             3.2             1.3             0.2   \n",
              "3               4.6             3.1             1.5             0.2   \n",
              "4               5.0             3.6             1.4             0.2   \n",
              "..              ...             ...             ...             ...   \n",
              "145             6.7             3.0             5.2             2.3   \n",
              "146             6.3             2.5             5.0             1.9   \n",
              "147             6.5             3.0             5.2             2.0   \n",
              "148             6.2             3.4             5.4             2.3   \n",
              "149             5.9             3.0             5.1             1.8   \n",
              "\n",
              "               tipo  \n",
              "0       Iris-setosa  \n",
              "1       Iris-setosa  \n",
              "2       Iris-setosa  \n",
              "3       Iris-setosa  \n",
              "4       Iris-setosa  \n",
              "..              ...  \n",
              "145  Iris-virginica  \n",
              "146  Iris-virginica  \n",
              "147  Iris-virginica  \n",
              "148  Iris-virginica  \n",
              "149  Iris-virginica  \n",
              "\n",
              "[150 rows x 5 columns]"
            ],
            "text/html": [
              "\n",
              "  <div id=\"df-b08958cd-17d3-4e79-8025-8f088169ec08\">\n",
              "    <div class=\"colab-df-container\">\n",
              "      <div>\n",
              "<style scoped>\n",
              "    .dataframe tbody tr th:only-of-type {\n",
              "        vertical-align: middle;\n",
              "    }\n",
              "\n",
              "    .dataframe tbody tr th {\n",
              "        vertical-align: top;\n",
              "    }\n",
              "\n",
              "    .dataframe thead th {\n",
              "        text-align: right;\n",
              "    }\n",
              "</style>\n",
              "<table border=\"1\" class=\"dataframe\">\n",
              "  <thead>\n",
              "    <tr style=\"text-align: right;\">\n",
              "      <th></th>\n",
              "      <th>tamanho_sepala</th>\n",
              "      <th>largura_sepala</th>\n",
              "      <th>tamanho_petala</th>\n",
              "      <th>largura_petala</th>\n",
              "      <th>tipo</th>\n",
              "    </tr>\n",
              "  </thead>\n",
              "  <tbody>\n",
              "    <tr>\n",
              "      <th>0</th>\n",
              "      <td>5.1</td>\n",
              "      <td>3.5</td>\n",
              "      <td>1.4</td>\n",
              "      <td>0.2</td>\n",
              "      <td>Iris-setosa</td>\n",
              "    </tr>\n",
              "    <tr>\n",
              "      <th>1</th>\n",
              "      <td>4.9</td>\n",
              "      <td>3.0</td>\n",
              "      <td>1.4</td>\n",
              "      <td>0.2</td>\n",
              "      <td>Iris-setosa</td>\n",
              "    </tr>\n",
              "    <tr>\n",
              "      <th>2</th>\n",
              "      <td>4.7</td>\n",
              "      <td>3.2</td>\n",
              "      <td>1.3</td>\n",
              "      <td>0.2</td>\n",
              "      <td>Iris-setosa</td>\n",
              "    </tr>\n",
              "    <tr>\n",
              "      <th>3</th>\n",
              "      <td>4.6</td>\n",
              "      <td>3.1</td>\n",
              "      <td>1.5</td>\n",
              "      <td>0.2</td>\n",
              "      <td>Iris-setosa</td>\n",
              "    </tr>\n",
              "    <tr>\n",
              "      <th>4</th>\n",
              "      <td>5.0</td>\n",
              "      <td>3.6</td>\n",
              "      <td>1.4</td>\n",
              "      <td>0.2</td>\n",
              "      <td>Iris-setosa</td>\n",
              "    </tr>\n",
              "    <tr>\n",
              "      <th>...</th>\n",
              "      <td>...</td>\n",
              "      <td>...</td>\n",
              "      <td>...</td>\n",
              "      <td>...</td>\n",
              "      <td>...</td>\n",
              "    </tr>\n",
              "    <tr>\n",
              "      <th>145</th>\n",
              "      <td>6.7</td>\n",
              "      <td>3.0</td>\n",
              "      <td>5.2</td>\n",
              "      <td>2.3</td>\n",
              "      <td>Iris-virginica</td>\n",
              "    </tr>\n",
              "    <tr>\n",
              "      <th>146</th>\n",
              "      <td>6.3</td>\n",
              "      <td>2.5</td>\n",
              "      <td>5.0</td>\n",
              "      <td>1.9</td>\n",
              "      <td>Iris-virginica</td>\n",
              "    </tr>\n",
              "    <tr>\n",
              "      <th>147</th>\n",
              "      <td>6.5</td>\n",
              "      <td>3.0</td>\n",
              "      <td>5.2</td>\n",
              "      <td>2.0</td>\n",
              "      <td>Iris-virginica</td>\n",
              "    </tr>\n",
              "    <tr>\n",
              "      <th>148</th>\n",
              "      <td>6.2</td>\n",
              "      <td>3.4</td>\n",
              "      <td>5.4</td>\n",
              "      <td>2.3</td>\n",
              "      <td>Iris-virginica</td>\n",
              "    </tr>\n",
              "    <tr>\n",
              "      <th>149</th>\n",
              "      <td>5.9</td>\n",
              "      <td>3.0</td>\n",
              "      <td>5.1</td>\n",
              "      <td>1.8</td>\n",
              "      <td>Iris-virginica</td>\n",
              "    </tr>\n",
              "  </tbody>\n",
              "</table>\n",
              "<p>150 rows × 5 columns</p>\n",
              "</div>\n",
              "      <button class=\"colab-df-convert\" onclick=\"convertToInteractive('df-b08958cd-17d3-4e79-8025-8f088169ec08')\"\n",
              "              title=\"Convert this dataframe to an interactive table.\"\n",
              "              style=\"display:none;\">\n",
              "        \n",
              "  <svg xmlns=\"http://www.w3.org/2000/svg\" height=\"24px\"viewBox=\"0 0 24 24\"\n",
              "       width=\"24px\">\n",
              "    <path d=\"M0 0h24v24H0V0z\" fill=\"none\"/>\n",
              "    <path d=\"M18.56 5.44l.94 2.06.94-2.06 2.06-.94-2.06-.94-.94-2.06-.94 2.06-2.06.94zm-11 1L8.5 8.5l.94-2.06 2.06-.94-2.06-.94L8.5 2.5l-.94 2.06-2.06.94zm10 10l.94 2.06.94-2.06 2.06-.94-2.06-.94-.94-2.06-.94 2.06-2.06.94z\"/><path d=\"M17.41 7.96l-1.37-1.37c-.4-.4-.92-.59-1.43-.59-.52 0-1.04.2-1.43.59L10.3 9.45l-7.72 7.72c-.78.78-.78 2.05 0 2.83L4 21.41c.39.39.9.59 1.41.59.51 0 1.02-.2 1.41-.59l7.78-7.78 2.81-2.81c.8-.78.8-2.07 0-2.86zM5.41 20L4 18.59l7.72-7.72 1.47 1.35L5.41 20z\"/>\n",
              "  </svg>\n",
              "      </button>\n",
              "      \n",
              "  <style>\n",
              "    .colab-df-container {\n",
              "      display:flex;\n",
              "      flex-wrap:wrap;\n",
              "      gap: 12px;\n",
              "    }\n",
              "\n",
              "    .colab-df-convert {\n",
              "      background-color: #E8F0FE;\n",
              "      border: none;\n",
              "      border-radius: 50%;\n",
              "      cursor: pointer;\n",
              "      display: none;\n",
              "      fill: #1967D2;\n",
              "      height: 32px;\n",
              "      padding: 0 0 0 0;\n",
              "      width: 32px;\n",
              "    }\n",
              "\n",
              "    .colab-df-convert:hover {\n",
              "      background-color: #E2EBFA;\n",
              "      box-shadow: 0px 1px 2px rgba(60, 64, 67, 0.3), 0px 1px 3px 1px rgba(60, 64, 67, 0.15);\n",
              "      fill: #174EA6;\n",
              "    }\n",
              "\n",
              "    [theme=dark] .colab-df-convert {\n",
              "      background-color: #3B4455;\n",
              "      fill: #D2E3FC;\n",
              "    }\n",
              "\n",
              "    [theme=dark] .colab-df-convert:hover {\n",
              "      background-color: #434B5C;\n",
              "      box-shadow: 0px 1px 3px 1px rgba(0, 0, 0, 0.15);\n",
              "      filter: drop-shadow(0px 1px 2px rgba(0, 0, 0, 0.3));\n",
              "      fill: #FFFFFF;\n",
              "    }\n",
              "  </style>\n",
              "\n",
              "      <script>\n",
              "        const buttonEl =\n",
              "          document.querySelector('#df-b08958cd-17d3-4e79-8025-8f088169ec08 button.colab-df-convert');\n",
              "        buttonEl.style.display =\n",
              "          google.colab.kernel.accessAllowed ? 'block' : 'none';\n",
              "\n",
              "        async function convertToInteractive(key) {\n",
              "          const element = document.querySelector('#df-b08958cd-17d3-4e79-8025-8f088169ec08');\n",
              "          const dataTable =\n",
              "            await google.colab.kernel.invokeFunction('convertToInteractive',\n",
              "                                                     [key], {});\n",
              "          if (!dataTable) return;\n",
              "\n",
              "          const docLinkHtml = 'Like what you see? Visit the ' +\n",
              "            '<a target=\"_blank\" href=https://colab.research.google.com/notebooks/data_table.ipynb>data table notebook</a>'\n",
              "            + ' to learn more about interactive tables.';\n",
              "          element.innerHTML = '';\n",
              "          dataTable['output_type'] = 'display_data';\n",
              "          await google.colab.output.renderOutput(dataTable, element);\n",
              "          const docLink = document.createElement('div');\n",
              "          docLink.innerHTML = docLinkHtml;\n",
              "          element.appendChild(docLink);\n",
              "        }\n",
              "      </script>\n",
              "    </div>\n",
              "  </div>\n",
              "  "
            ]
          },
          "metadata": {},
          "execution_count": 4
        }
      ]
    },
    {
      "cell_type": "markdown",
      "source": [
        "### Segmentacao da amostra"
      ],
      "metadata": {
        "id": "u9EQJ1OyyZoV"
      }
    },
    {
      "cell_type": "code",
      "source": [
        "# X = dados[[\n",
        "#     \"tamanho_sepala\", \"largura_sepala\",\n",
        "#     \"tamanho_petala\", \"largura_petala\"]]\n",
        "\n",
        "X = dados.drop(columns=['tipo'], axis=1)\n",
        "X.sample(10)"
      ],
      "metadata": {
        "colab": {
          "base_uri": "https://localhost:8080/",
          "height": 363
        },
        "id": "n_MhUv_dw8Se",
        "outputId": "3cf79592-449c-431d-c065-e87877adbb11"
      },
      "execution_count": null,
      "outputs": [
        {
          "output_type": "execute_result",
          "data": {
            "text/plain": [
              "     tamanho_sepala  largura_sepala  tamanho_petala  largura_petala\n",
              "79              5.7             2.6             3.5             1.0\n",
              "22              4.6             3.6             1.0             0.2\n",
              "6               4.6             3.4             1.4             0.3\n",
              "130             7.4             2.8             6.1             1.9\n",
              "24              4.8             3.4             1.9             0.2\n",
              "136             6.3             3.4             5.6             2.4\n",
              "10              5.4             3.7             1.5             0.2\n",
              "35              5.0             3.2             1.2             0.2\n",
              "54              6.5             2.8             4.6             1.5\n",
              "110             6.5             3.2             5.1             2.0"
            ],
            "text/html": [
              "\n",
              "  <div id=\"df-2bcf5b76-efaf-4fa1-afac-e1aff207a25d\">\n",
              "    <div class=\"colab-df-container\">\n",
              "      <div>\n",
              "<style scoped>\n",
              "    .dataframe tbody tr th:only-of-type {\n",
              "        vertical-align: middle;\n",
              "    }\n",
              "\n",
              "    .dataframe tbody tr th {\n",
              "        vertical-align: top;\n",
              "    }\n",
              "\n",
              "    .dataframe thead th {\n",
              "        text-align: right;\n",
              "    }\n",
              "</style>\n",
              "<table border=\"1\" class=\"dataframe\">\n",
              "  <thead>\n",
              "    <tr style=\"text-align: right;\">\n",
              "      <th></th>\n",
              "      <th>tamanho_sepala</th>\n",
              "      <th>largura_sepala</th>\n",
              "      <th>tamanho_petala</th>\n",
              "      <th>largura_petala</th>\n",
              "    </tr>\n",
              "  </thead>\n",
              "  <tbody>\n",
              "    <tr>\n",
              "      <th>79</th>\n",
              "      <td>5.7</td>\n",
              "      <td>2.6</td>\n",
              "      <td>3.5</td>\n",
              "      <td>1.0</td>\n",
              "    </tr>\n",
              "    <tr>\n",
              "      <th>22</th>\n",
              "      <td>4.6</td>\n",
              "      <td>3.6</td>\n",
              "      <td>1.0</td>\n",
              "      <td>0.2</td>\n",
              "    </tr>\n",
              "    <tr>\n",
              "      <th>6</th>\n",
              "      <td>4.6</td>\n",
              "      <td>3.4</td>\n",
              "      <td>1.4</td>\n",
              "      <td>0.3</td>\n",
              "    </tr>\n",
              "    <tr>\n",
              "      <th>130</th>\n",
              "      <td>7.4</td>\n",
              "      <td>2.8</td>\n",
              "      <td>6.1</td>\n",
              "      <td>1.9</td>\n",
              "    </tr>\n",
              "    <tr>\n",
              "      <th>24</th>\n",
              "      <td>4.8</td>\n",
              "      <td>3.4</td>\n",
              "      <td>1.9</td>\n",
              "      <td>0.2</td>\n",
              "    </tr>\n",
              "    <tr>\n",
              "      <th>136</th>\n",
              "      <td>6.3</td>\n",
              "      <td>3.4</td>\n",
              "      <td>5.6</td>\n",
              "      <td>2.4</td>\n",
              "    </tr>\n",
              "    <tr>\n",
              "      <th>10</th>\n",
              "      <td>5.4</td>\n",
              "      <td>3.7</td>\n",
              "      <td>1.5</td>\n",
              "      <td>0.2</td>\n",
              "    </tr>\n",
              "    <tr>\n",
              "      <th>35</th>\n",
              "      <td>5.0</td>\n",
              "      <td>3.2</td>\n",
              "      <td>1.2</td>\n",
              "      <td>0.2</td>\n",
              "    </tr>\n",
              "    <tr>\n",
              "      <th>54</th>\n",
              "      <td>6.5</td>\n",
              "      <td>2.8</td>\n",
              "      <td>4.6</td>\n",
              "      <td>1.5</td>\n",
              "    </tr>\n",
              "    <tr>\n",
              "      <th>110</th>\n",
              "      <td>6.5</td>\n",
              "      <td>3.2</td>\n",
              "      <td>5.1</td>\n",
              "      <td>2.0</td>\n",
              "    </tr>\n",
              "  </tbody>\n",
              "</table>\n",
              "</div>\n",
              "      <button class=\"colab-df-convert\" onclick=\"convertToInteractive('df-2bcf5b76-efaf-4fa1-afac-e1aff207a25d')\"\n",
              "              title=\"Convert this dataframe to an interactive table.\"\n",
              "              style=\"display:none;\">\n",
              "        \n",
              "  <svg xmlns=\"http://www.w3.org/2000/svg\" height=\"24px\"viewBox=\"0 0 24 24\"\n",
              "       width=\"24px\">\n",
              "    <path d=\"M0 0h24v24H0V0z\" fill=\"none\"/>\n",
              "    <path d=\"M18.56 5.44l.94 2.06.94-2.06 2.06-.94-2.06-.94-.94-2.06-.94 2.06-2.06.94zm-11 1L8.5 8.5l.94-2.06 2.06-.94-2.06-.94L8.5 2.5l-.94 2.06-2.06.94zm10 10l.94 2.06.94-2.06 2.06-.94-2.06-.94-.94-2.06-.94 2.06-2.06.94z\"/><path d=\"M17.41 7.96l-1.37-1.37c-.4-.4-.92-.59-1.43-.59-.52 0-1.04.2-1.43.59L10.3 9.45l-7.72 7.72c-.78.78-.78 2.05 0 2.83L4 21.41c.39.39.9.59 1.41.59.51 0 1.02-.2 1.41-.59l7.78-7.78 2.81-2.81c.8-.78.8-2.07 0-2.86zM5.41 20L4 18.59l7.72-7.72 1.47 1.35L5.41 20z\"/>\n",
              "  </svg>\n",
              "      </button>\n",
              "      \n",
              "  <style>\n",
              "    .colab-df-container {\n",
              "      display:flex;\n",
              "      flex-wrap:wrap;\n",
              "      gap: 12px;\n",
              "    }\n",
              "\n",
              "    .colab-df-convert {\n",
              "      background-color: #E8F0FE;\n",
              "      border: none;\n",
              "      border-radius: 50%;\n",
              "      cursor: pointer;\n",
              "      display: none;\n",
              "      fill: #1967D2;\n",
              "      height: 32px;\n",
              "      padding: 0 0 0 0;\n",
              "      width: 32px;\n",
              "    }\n",
              "\n",
              "    .colab-df-convert:hover {\n",
              "      background-color: #E2EBFA;\n",
              "      box-shadow: 0px 1px 2px rgba(60, 64, 67, 0.3), 0px 1px 3px 1px rgba(60, 64, 67, 0.15);\n",
              "      fill: #174EA6;\n",
              "    }\n",
              "\n",
              "    [theme=dark] .colab-df-convert {\n",
              "      background-color: #3B4455;\n",
              "      fill: #D2E3FC;\n",
              "    }\n",
              "\n",
              "    [theme=dark] .colab-df-convert:hover {\n",
              "      background-color: #434B5C;\n",
              "      box-shadow: 0px 1px 3px 1px rgba(0, 0, 0, 0.15);\n",
              "      filter: drop-shadow(0px 1px 2px rgba(0, 0, 0, 0.3));\n",
              "      fill: #FFFFFF;\n",
              "    }\n",
              "  </style>\n",
              "\n",
              "      <script>\n",
              "        const buttonEl =\n",
              "          document.querySelector('#df-2bcf5b76-efaf-4fa1-afac-e1aff207a25d button.colab-df-convert');\n",
              "        buttonEl.style.display =\n",
              "          google.colab.kernel.accessAllowed ? 'block' : 'none';\n",
              "\n",
              "        async function convertToInteractive(key) {\n",
              "          const element = document.querySelector('#df-2bcf5b76-efaf-4fa1-afac-e1aff207a25d');\n",
              "          const dataTable =\n",
              "            await google.colab.kernel.invokeFunction('convertToInteractive',\n",
              "                                                     [key], {});\n",
              "          if (!dataTable) return;\n",
              "\n",
              "          const docLinkHtml = 'Like what you see? Visit the ' +\n",
              "            '<a target=\"_blank\" href=https://colab.research.google.com/notebooks/data_table.ipynb>data table notebook</a>'\n",
              "            + ' to learn more about interactive tables.';\n",
              "          element.innerHTML = '';\n",
              "          dataTable['output_type'] = 'display_data';\n",
              "          await google.colab.output.renderOutput(dataTable, element);\n",
              "          const docLink = document.createElement('div');\n",
              "          docLink.innerHTML = docLinkHtml;\n",
              "          element.appendChild(docLink);\n",
              "        }\n",
              "      </script>\n",
              "    </div>\n",
              "  </div>\n",
              "  "
            ]
          },
          "metadata": {},
          "execution_count": 5
        }
      ]
    },
    {
      "cell_type": "code",
      "source": [
        "y = dados['tipo']\n",
        "y.head()"
      ],
      "metadata": {
        "colab": {
          "base_uri": "https://localhost:8080/"
        },
        "id": "YgCAVHfrxdzO",
        "outputId": "f881cbc1-402d-4222-8ab8-10b235a10911"
      },
      "execution_count": null,
      "outputs": [
        {
          "output_type": "execute_result",
          "data": {
            "text/plain": [
              "0    Iris-setosa\n",
              "1    Iris-setosa\n",
              "2    Iris-setosa\n",
              "3    Iris-setosa\n",
              "4    Iris-setosa\n",
              "Name: tipo, dtype: object"
            ]
          },
          "metadata": {},
          "execution_count": 6
        }
      ]
    },
    {
      "cell_type": "code",
      "source": [
        "from sklearn.model_selection import train_test_split\n",
        "\n",
        "treino_x, teste_x, treino_y, teste_y = train_test_split(\n",
        "            X, y, test_size =0.30, stratify = y)\n",
        "print(treino_x.shape)\n",
        "print(teste_x.shape)"
      ],
      "metadata": {
        "colab": {
          "base_uri": "https://localhost:8080/"
        },
        "id": "6ujnNkArygyt",
        "outputId": "a25e51a0-b8c6-442a-ea0c-e83137981c59"
      },
      "execution_count": null,
      "outputs": [
        {
          "output_type": "stream",
          "name": "stdout",
          "text": [
            "(105, 4)\n",
            "(45, 4)\n"
          ]
        }
      ]
    },
    {
      "cell_type": "markdown",
      "source": [
        "### Criar e treinar a arvore"
      ],
      "metadata": {
        "id": "WsZAN_hm0OSf"
      }
    },
    {
      "cell_type": "code",
      "source": [
        "from sklearn.tree import DecisionTreeClassifier"
      ],
      "metadata": {
        "id": "1HAxTwC90NC-"
      },
      "execution_count": null,
      "outputs": []
    },
    {
      "cell_type": "code",
      "source": [
        "modelo = DecisionTreeClassifier(max_depth=6, criterion=\"entropy\")\n",
        "modelo.fit(treino_x, treino_y)"
      ],
      "metadata": {
        "colab": {
          "base_uri": "https://localhost:8080/"
        },
        "id": "lWilbmz-0NGr",
        "outputId": "ddf38a71-5c42-43c4-d97c-6f9ab8118daa"
      },
      "execution_count": null,
      "outputs": [
        {
          "output_type": "execute_result",
          "data": {
            "text/plain": [
              "DecisionTreeClassifier(criterion='entropy', max_depth=6)"
            ]
          },
          "metadata": {},
          "execution_count": 9
        }
      ]
    },
    {
      "cell_type": "markdown",
      "source": [
        "### Predicao"
      ],
      "metadata": {
        "id": "payXv2Tr0-zm"
      }
    },
    {
      "cell_type": "code",
      "source": [
        "#Teste - testando o modelo\n",
        "previsoes = modelo.predict(teste_x)\n",
        "previsoes"
      ],
      "metadata": {
        "colab": {
          "base_uri": "https://localhost:8080/"
        },
        "id": "YOBZvUq90-NZ",
        "outputId": "d9e1c72d-29dd-4283-b3c4-5f8492d65953"
      },
      "execution_count": null,
      "outputs": [
        {
          "output_type": "execute_result",
          "data": {
            "text/plain": [
              "array(['Iris-setosa', 'Iris-versicolor', 'Iris-virginica',\n",
              "       'Iris-versicolor', 'Iris-setosa', 'Iris-virginica',\n",
              "       'Iris-versicolor', 'Iris-versicolor', 'Iris-setosa',\n",
              "       'Iris-virginica', 'Iris-virginica', 'Iris-virginica',\n",
              "       'Iris-setosa', 'Iris-versicolor', 'Iris-setosa', 'Iris-setosa',\n",
              "       'Iris-virginica', 'Iris-virginica', 'Iris-virginica',\n",
              "       'Iris-setosa', 'Iris-setosa', 'Iris-versicolor', 'Iris-versicolor',\n",
              "       'Iris-setosa', 'Iris-versicolor', 'Iris-versicolor',\n",
              "       'Iris-versicolor', 'Iris-virginica', 'Iris-versicolor',\n",
              "       'Iris-versicolor', 'Iris-virginica', 'Iris-versicolor',\n",
              "       'Iris-virginica', 'Iris-virginica', 'Iris-setosa',\n",
              "       'Iris-versicolor', 'Iris-setosa', 'Iris-setosa', 'Iris-setosa',\n",
              "       'Iris-setosa', 'Iris-setosa', 'Iris-versicolor', 'Iris-versicolor',\n",
              "       'Iris-versicolor', 'Iris-versicolor'], dtype=object)"
            ]
          },
          "metadata": {},
          "execution_count": 10
        }
      ]
    },
    {
      "cell_type": "code",
      "source": [
        "from sklearn.metrics import accuracy_score\n",
        "print(\"A acurácia foi %.2f%%\" % (accuracy_score(teste_y, previsoes)*100))"
      ],
      "metadata": {
        "colab": {
          "base_uri": "https://localhost:8080/"
        },
        "id": "EfbeU8Ci1sI4",
        "outputId": "41962210-62d8-4f7c-db50-36c908205158"
      },
      "execution_count": null,
      "outputs": [
        {
          "output_type": "stream",
          "name": "stdout",
          "text": [
            "A acurácia foi 93.33%\n"
          ]
        }
      ]
    },
    {
      "cell_type": "code",
      "source": [
        "!pip install graphviz"
      ],
      "metadata": {
        "colab": {
          "base_uri": "https://localhost:8080/"
        },
        "id": "xwXZr0k13tsq",
        "outputId": "f0da0dd8-070f-4c4e-a89a-e3289e3c0fcb"
      },
      "execution_count": null,
      "outputs": [
        {
          "output_type": "stream",
          "name": "stdout",
          "text": [
            "Requirement already satisfied: graphviz in /usr/local/lib/python3.7/dist-packages (0.10.1)\n"
          ]
        }
      ]
    },
    {
      "cell_type": "code",
      "source": [
        "from sklearn.tree import export_graphviz\n",
        "import graphviz\n",
        "\n",
        "features = X.columns\n",
        "dot_data = export_graphviz(\n",
        "    modelo, out_file=None, filled = True, \n",
        "    rounded = True, feature_names = features, \n",
        "    class_names = [\"Iris-setosa\", \"Iris-versicolor\", \"Iris-virginica\"])\n",
        "grafico = graphviz.Source(dot_data)\n",
        "grafico"
      ],
      "metadata": {
        "colab": {
          "base_uri": "https://localhost:8080/",
          "height": 1000
        },
        "id": "LaLr6YWI2Sxw",
        "outputId": "dc07bc14-c3b3-4923-af4c-323ab41c613e"
      },
      "execution_count": null,
      "outputs": [
        {
          "output_type": "execute_result",
          "data": {
            "text/plain": [
              "<graphviz.files.Source at 0x7f05236f6690>"
            ],
            "image/svg+xml": "<?xml version=\"1.0\" encoding=\"UTF-8\" standalone=\"no\"?>\n<!DOCTYPE svg PUBLIC \"-//W3C//DTD SVG 1.1//EN\"\n \"http://www.w3.org/Graphics/SVG/1.1/DTD/svg11.dtd\">\n<!-- Generated by graphviz version 2.40.1 (20161225.0304)\n -->\n<!-- Title: Tree Pages: 1 -->\n<svg width=\"864pt\" height=\"790pt\"\n viewBox=\"0.00 0.00 863.50 790.00\" xmlns=\"http://www.w3.org/2000/svg\" xmlns:xlink=\"http://www.w3.org/1999/xlink\">\n<g id=\"graph0\" class=\"graph\" transform=\"scale(1 1) rotate(0) translate(4 786)\">\n<title>Tree</title>\n<polygon fill=\"#ffffff\" stroke=\"transparent\" points=\"-4,4 -4,-786 859.5,-786 859.5,4 -4,4\"/>\n<!-- 0 -->\n<g id=\"node1\" class=\"node\">\n<title>0</title>\n<path fill=\"#ffffff\" stroke=\"#000000\" d=\"M344,-782C344,-782 194,-782 194,-782 188,-782 182,-776 182,-770 182,-770 182,-711 182,-711 182,-705 188,-699 194,-699 194,-699 344,-699 344,-699 350,-699 356,-705 356,-711 356,-711 356,-770 356,-770 356,-776 350,-782 344,-782\"/>\n<text text-anchor=\"middle\" x=\"269\" y=\"-766.8\" font-family=\"Helvetica,sans-Serif\" font-size=\"14.00\" fill=\"#000000\">tamanho_petala &lt;= 2.45</text>\n<text text-anchor=\"middle\" x=\"269\" y=\"-751.8\" font-family=\"Helvetica,sans-Serif\" font-size=\"14.00\" fill=\"#000000\">entropy = 1.585</text>\n<text text-anchor=\"middle\" x=\"269\" y=\"-736.8\" font-family=\"Helvetica,sans-Serif\" font-size=\"14.00\" fill=\"#000000\">samples = 105</text>\n<text text-anchor=\"middle\" x=\"269\" y=\"-721.8\" font-family=\"Helvetica,sans-Serif\" font-size=\"14.00\" fill=\"#000000\">value = [35, 35, 35]</text>\n<text text-anchor=\"middle\" x=\"269\" y=\"-706.8\" font-family=\"Helvetica,sans-Serif\" font-size=\"14.00\" fill=\"#000000\">class = Iris&#45;setosa</text>\n</g>\n<!-- 1 -->\n<g id=\"node2\" class=\"node\">\n<title>1</title>\n<path fill=\"#e58139\" stroke=\"#000000\" d=\"M240.5,-655.5C240.5,-655.5 131.5,-655.5 131.5,-655.5 125.5,-655.5 119.5,-649.5 119.5,-643.5 119.5,-643.5 119.5,-599.5 119.5,-599.5 119.5,-593.5 125.5,-587.5 131.5,-587.5 131.5,-587.5 240.5,-587.5 240.5,-587.5 246.5,-587.5 252.5,-593.5 252.5,-599.5 252.5,-599.5 252.5,-643.5 252.5,-643.5 252.5,-649.5 246.5,-655.5 240.5,-655.5\"/>\n<text text-anchor=\"middle\" x=\"186\" y=\"-640.3\" font-family=\"Helvetica,sans-Serif\" font-size=\"14.00\" fill=\"#000000\">entropy = 0.0</text>\n<text text-anchor=\"middle\" x=\"186\" y=\"-625.3\" font-family=\"Helvetica,sans-Serif\" font-size=\"14.00\" fill=\"#000000\">samples = 35</text>\n<text text-anchor=\"middle\" x=\"186\" y=\"-610.3\" font-family=\"Helvetica,sans-Serif\" font-size=\"14.00\" fill=\"#000000\">value = [35, 0, 0]</text>\n<text text-anchor=\"middle\" x=\"186\" y=\"-595.3\" font-family=\"Helvetica,sans-Serif\" font-size=\"14.00\" fill=\"#000000\">class = Iris&#45;setosa</text>\n</g>\n<!-- 0&#45;&gt;1 -->\n<g id=\"edge1\" class=\"edge\">\n<title>0&#45;&gt;1</title>\n<path fill=\"none\" stroke=\"#000000\" d=\"M239.9706,-698.8796C232.1477,-687.6636 223.673,-675.5131 215.8083,-664.2372\"/>\n<polygon fill=\"#000000\" stroke=\"#000000\" points=\"218.5254,-662.0147 209.9339,-655.8149 212.784,-666.0192 218.5254,-662.0147\"/>\n<text text-anchor=\"middle\" x=\"205.5476\" y=\"-676.7271\" font-family=\"Helvetica,sans-Serif\" font-size=\"14.00\" fill=\"#000000\">True</text>\n</g>\n<!-- 2 -->\n<g id=\"node3\" class=\"node\">\n<title>2</title>\n<path fill=\"#ffffff\" stroke=\"#000000\" d=\"M421,-663C421,-663 283,-663 283,-663 277,-663 271,-657 271,-651 271,-651 271,-592 271,-592 271,-586 277,-580 283,-580 283,-580 421,-580 421,-580 427,-580 433,-586 433,-592 433,-592 433,-651 433,-651 433,-657 427,-663 421,-663\"/>\n<text text-anchor=\"middle\" x=\"352\" y=\"-647.8\" font-family=\"Helvetica,sans-Serif\" font-size=\"14.00\" fill=\"#000000\">largura_petala &lt;= 1.65</text>\n<text text-anchor=\"middle\" x=\"352\" y=\"-632.8\" font-family=\"Helvetica,sans-Serif\" font-size=\"14.00\" fill=\"#000000\">entropy = 1.0</text>\n<text text-anchor=\"middle\" x=\"352\" y=\"-617.8\" font-family=\"Helvetica,sans-Serif\" font-size=\"14.00\" fill=\"#000000\">samples = 70</text>\n<text text-anchor=\"middle\" x=\"352\" y=\"-602.8\" font-family=\"Helvetica,sans-Serif\" font-size=\"14.00\" fill=\"#000000\">value = [0, 35, 35]</text>\n<text text-anchor=\"middle\" x=\"352\" y=\"-587.8\" font-family=\"Helvetica,sans-Serif\" font-size=\"14.00\" fill=\"#000000\">class = Iris&#45;versicolor</text>\n</g>\n<!-- 0&#45;&gt;2 -->\n<g id=\"edge2\" class=\"edge\">\n<title>0&#45;&gt;2</title>\n<path fill=\"none\" stroke=\"#000000\" d=\"M298.0294,-698.8796C304.1855,-690.0534 310.7451,-680.6485 317.0936,-671.5466\"/>\n<polygon fill=\"#000000\" stroke=\"#000000\" points=\"319.9967,-673.5024 322.8467,-663.2981 314.2552,-669.4978 319.9967,-673.5024\"/>\n<text text-anchor=\"middle\" x=\"327.2331\" y=\"-684.2103\" font-family=\"Helvetica,sans-Serif\" font-size=\"14.00\" fill=\"#000000\">False</text>\n</g>\n<!-- 3 -->\n<g id=\"node4\" class=\"node\">\n<title>3</title>\n<path fill=\"#3fe685\" stroke=\"#000000\" d=\"M329,-544C329,-544 187,-544 187,-544 181,-544 175,-538 175,-532 175,-532 175,-473 175,-473 175,-467 181,-461 187,-461 187,-461 329,-461 329,-461 335,-461 341,-467 341,-473 341,-473 341,-532 341,-532 341,-538 335,-544 329,-544\"/>\n<text text-anchor=\"middle\" x=\"258\" y=\"-528.8\" font-family=\"Helvetica,sans-Serif\" font-size=\"14.00\" fill=\"#000000\">tamanho_petala &lt;= 5.0</text>\n<text text-anchor=\"middle\" x=\"258\" y=\"-513.8\" font-family=\"Helvetica,sans-Serif\" font-size=\"14.00\" fill=\"#000000\">entropy = 0.191</text>\n<text text-anchor=\"middle\" x=\"258\" y=\"-498.8\" font-family=\"Helvetica,sans-Serif\" font-size=\"14.00\" fill=\"#000000\">samples = 34</text>\n<text text-anchor=\"middle\" x=\"258\" y=\"-483.8\" font-family=\"Helvetica,sans-Serif\" font-size=\"14.00\" fill=\"#000000\">value = [0, 33, 1]</text>\n<text text-anchor=\"middle\" x=\"258\" y=\"-468.8\" font-family=\"Helvetica,sans-Serif\" font-size=\"14.00\" fill=\"#000000\">class = Iris&#45;versicolor</text>\n</g>\n<!-- 2&#45;&gt;3 -->\n<g id=\"edge3\" class=\"edge\">\n<title>2&#45;&gt;3</title>\n<path fill=\"none\" stroke=\"#000000\" d=\"M319.1234,-579.8796C312.0803,-570.9633 304.5707,-561.4565 297.3126,-552.268\"/>\n<polygon fill=\"#000000\" stroke=\"#000000\" points=\"299.9621,-549.9757 291.017,-544.2981 294.4691,-554.3147 299.9621,-549.9757\"/>\n</g>\n<!-- 8 -->\n<g id=\"node9\" class=\"node\">\n<title>8</title>\n<path fill=\"#8845e7\" stroke=\"#000000\" d=\"M521,-544C521,-544 371,-544 371,-544 365,-544 359,-538 359,-532 359,-532 359,-473 359,-473 359,-467 365,-461 371,-461 371,-461 521,-461 521,-461 527,-461 533,-467 533,-473 533,-473 533,-532 533,-532 533,-538 527,-544 521,-544\"/>\n<text text-anchor=\"middle\" x=\"446\" y=\"-528.8\" font-family=\"Helvetica,sans-Serif\" font-size=\"14.00\" fill=\"#000000\">tamanho_petala &lt;= 5.05</text>\n<text text-anchor=\"middle\" x=\"446\" y=\"-513.8\" font-family=\"Helvetica,sans-Serif\" font-size=\"14.00\" fill=\"#000000\">entropy = 0.31</text>\n<text text-anchor=\"middle\" x=\"446\" y=\"-498.8\" font-family=\"Helvetica,sans-Serif\" font-size=\"14.00\" fill=\"#000000\">samples = 36</text>\n<text text-anchor=\"middle\" x=\"446\" y=\"-483.8\" font-family=\"Helvetica,sans-Serif\" font-size=\"14.00\" fill=\"#000000\">value = [0, 2, 34]</text>\n<text text-anchor=\"middle\" x=\"446\" y=\"-468.8\" font-family=\"Helvetica,sans-Serif\" font-size=\"14.00\" fill=\"#000000\">class = Iris&#45;virginica</text>\n</g>\n<!-- 2&#45;&gt;8 -->\n<g id=\"edge8\" class=\"edge\">\n<title>2&#45;&gt;8</title>\n<path fill=\"none\" stroke=\"#000000\" d=\"M384.8766,-579.8796C391.9197,-570.9633 399.4293,-561.4565 406.6874,-552.268\"/>\n<polygon fill=\"#000000\" stroke=\"#000000\" points=\"409.5309,-554.3147 412.983,-544.2981 404.0379,-549.9757 409.5309,-554.3147\"/>\n</g>\n<!-- 4 -->\n<g id=\"node5\" class=\"node\">\n<title>4</title>\n<path fill=\"#39e581\" stroke=\"#000000\" d=\"M140,-417.5C140,-417.5 12,-417.5 12,-417.5 6,-417.5 0,-411.5 0,-405.5 0,-405.5 0,-361.5 0,-361.5 0,-355.5 6,-349.5 12,-349.5 12,-349.5 140,-349.5 140,-349.5 146,-349.5 152,-355.5 152,-361.5 152,-361.5 152,-405.5 152,-405.5 152,-411.5 146,-417.5 140,-417.5\"/>\n<text text-anchor=\"middle\" x=\"76\" y=\"-402.3\" font-family=\"Helvetica,sans-Serif\" font-size=\"14.00\" fill=\"#000000\">entropy = 0.0</text>\n<text text-anchor=\"middle\" x=\"76\" y=\"-387.3\" font-family=\"Helvetica,sans-Serif\" font-size=\"14.00\" fill=\"#000000\">samples = 32</text>\n<text text-anchor=\"middle\" x=\"76\" y=\"-372.3\" font-family=\"Helvetica,sans-Serif\" font-size=\"14.00\" fill=\"#000000\">value = [0, 32, 0]</text>\n<text text-anchor=\"middle\" x=\"76\" y=\"-357.3\" font-family=\"Helvetica,sans-Serif\" font-size=\"14.00\" fill=\"#000000\">class = Iris&#45;versicolor</text>\n</g>\n<!-- 3&#45;&gt;4 -->\n<g id=\"edge4\" class=\"edge\">\n<title>3&#45;&gt;4</title>\n<path fill=\"none\" stroke=\"#000000\" d=\"M194.3452,-460.8796C175.5889,-448.6158 155.1239,-435.2348 136.567,-423.1015\"/>\n<polygon fill=\"#000000\" stroke=\"#000000\" points=\"138.4733,-420.1662 128.1882,-417.623 134.6425,-426.025 138.4733,-420.1662\"/>\n</g>\n<!-- 5 -->\n<g id=\"node6\" class=\"node\">\n<title>5</title>\n<path fill=\"#ffffff\" stroke=\"#000000\" d=\"M336,-425C336,-425 182,-425 182,-425 176,-425 170,-419 170,-413 170,-413 170,-354 170,-354 170,-348 176,-342 182,-342 182,-342 336,-342 336,-342 342,-342 348,-348 348,-354 348,-354 348,-413 348,-413 348,-419 342,-425 336,-425\"/>\n<text text-anchor=\"middle\" x=\"259\" y=\"-409.8\" font-family=\"Helvetica,sans-Serif\" font-size=\"14.00\" fill=\"#000000\">tamanho_sepala &lt;= 6.15</text>\n<text text-anchor=\"middle\" x=\"259\" y=\"-394.8\" font-family=\"Helvetica,sans-Serif\" font-size=\"14.00\" fill=\"#000000\">entropy = 1.0</text>\n<text text-anchor=\"middle\" x=\"259\" y=\"-379.8\" font-family=\"Helvetica,sans-Serif\" font-size=\"14.00\" fill=\"#000000\">samples = 2</text>\n<text text-anchor=\"middle\" x=\"259\" y=\"-364.8\" font-family=\"Helvetica,sans-Serif\" font-size=\"14.00\" fill=\"#000000\">value = [0, 1, 1]</text>\n<text text-anchor=\"middle\" x=\"259\" y=\"-349.8\" font-family=\"Helvetica,sans-Serif\" font-size=\"14.00\" fill=\"#000000\">class = Iris&#45;versicolor</text>\n</g>\n<!-- 3&#45;&gt;5 -->\n<g id=\"edge5\" class=\"edge\">\n<title>3&#45;&gt;5</title>\n<path fill=\"none\" stroke=\"#000000\" d=\"M258.3498,-460.8796C258.4186,-452.6838 258.4917,-443.9891 258.563,-435.5013\"/>\n<polygon fill=\"#000000\" stroke=\"#000000\" points=\"262.0645,-435.3272 258.6488,-425.2981 255.0648,-435.2683 262.0645,-435.3272\"/>\n</g>\n<!-- 6 -->\n<g id=\"node7\" class=\"node\">\n<title>6</title>\n<path fill=\"#39e581\" stroke=\"#000000\" d=\"M164,-298.5C164,-298.5 36,-298.5 36,-298.5 30,-298.5 24,-292.5 24,-286.5 24,-286.5 24,-242.5 24,-242.5 24,-236.5 30,-230.5 36,-230.5 36,-230.5 164,-230.5 164,-230.5 170,-230.5 176,-236.5 176,-242.5 176,-242.5 176,-286.5 176,-286.5 176,-292.5 170,-298.5 164,-298.5\"/>\n<text text-anchor=\"middle\" x=\"100\" y=\"-283.3\" font-family=\"Helvetica,sans-Serif\" font-size=\"14.00\" fill=\"#000000\">entropy = 0.0</text>\n<text text-anchor=\"middle\" x=\"100\" y=\"-268.3\" font-family=\"Helvetica,sans-Serif\" font-size=\"14.00\" fill=\"#000000\">samples = 1</text>\n<text text-anchor=\"middle\" x=\"100\" y=\"-253.3\" font-family=\"Helvetica,sans-Serif\" font-size=\"14.00\" fill=\"#000000\">value = [0, 1, 0]</text>\n<text text-anchor=\"middle\" x=\"100\" y=\"-238.3\" font-family=\"Helvetica,sans-Serif\" font-size=\"14.00\" fill=\"#000000\">class = Iris&#45;versicolor</text>\n</g>\n<!-- 5&#45;&gt;6 -->\n<g id=\"edge6\" class=\"edge\">\n<title>5&#45;&gt;6</title>\n<path fill=\"none\" stroke=\"#000000\" d=\"M203.3895,-341.8796C187.2987,-329.8368 169.7685,-316.7167 153.7909,-304.7586\"/>\n<polygon fill=\"#000000\" stroke=\"#000000\" points=\"155.6962,-301.8129 145.593,-298.623 151.5018,-307.4171 155.6962,-301.8129\"/>\n</g>\n<!-- 7 -->\n<g id=\"node8\" class=\"node\">\n<title>7</title>\n<path fill=\"#8139e5\" stroke=\"#000000\" d=\"M325.5,-298.5C325.5,-298.5 206.5,-298.5 206.5,-298.5 200.5,-298.5 194.5,-292.5 194.5,-286.5 194.5,-286.5 194.5,-242.5 194.5,-242.5 194.5,-236.5 200.5,-230.5 206.5,-230.5 206.5,-230.5 325.5,-230.5 325.5,-230.5 331.5,-230.5 337.5,-236.5 337.5,-242.5 337.5,-242.5 337.5,-286.5 337.5,-286.5 337.5,-292.5 331.5,-298.5 325.5,-298.5\"/>\n<text text-anchor=\"middle\" x=\"266\" y=\"-283.3\" font-family=\"Helvetica,sans-Serif\" font-size=\"14.00\" fill=\"#000000\">entropy = 0.0</text>\n<text text-anchor=\"middle\" x=\"266\" y=\"-268.3\" font-family=\"Helvetica,sans-Serif\" font-size=\"14.00\" fill=\"#000000\">samples = 1</text>\n<text text-anchor=\"middle\" x=\"266\" y=\"-253.3\" font-family=\"Helvetica,sans-Serif\" font-size=\"14.00\" fill=\"#000000\">value = [0, 0, 1]</text>\n<text text-anchor=\"middle\" x=\"266\" y=\"-238.3\" font-family=\"Helvetica,sans-Serif\" font-size=\"14.00\" fill=\"#000000\">class = Iris&#45;virginica</text>\n</g>\n<!-- 5&#45;&gt;7 -->\n<g id=\"edge7\" class=\"edge\">\n<title>5&#45;&gt;7</title>\n<path fill=\"none\" stroke=\"#000000\" d=\"M261.4483,-341.8796C262.0757,-331.2134 262.7528,-319.7021 263.3881,-308.9015\"/>\n<polygon fill=\"#000000\" stroke=\"#000000\" points=\"266.8881,-309.0032 263.9815,-298.8149 259.9002,-308.5921 266.8881,-309.0032\"/>\n</g>\n<!-- 9 -->\n<g id=\"node10\" class=\"node\">\n<title>9</title>\n<path fill=\"#a572ec\" stroke=\"#000000\" d=\"M513,-425C513,-425 379,-425 379,-425 373,-425 367,-419 367,-413 367,-413 367,-354 367,-354 367,-348 373,-342 379,-342 379,-342 513,-342 513,-342 519,-342 525,-348 525,-354 525,-354 525,-413 525,-413 525,-419 519,-425 513,-425\"/>\n<text text-anchor=\"middle\" x=\"446\" y=\"-409.8\" font-family=\"Helvetica,sans-Serif\" font-size=\"14.00\" fill=\"#000000\">largura_sepala &lt;= 2.9</text>\n<text text-anchor=\"middle\" x=\"446\" y=\"-394.8\" font-family=\"Helvetica,sans-Serif\" font-size=\"14.00\" fill=\"#000000\">entropy = 0.764</text>\n<text text-anchor=\"middle\" x=\"446\" y=\"-379.8\" font-family=\"Helvetica,sans-Serif\" font-size=\"14.00\" fill=\"#000000\">samples = 9</text>\n<text text-anchor=\"middle\" x=\"446\" y=\"-364.8\" font-family=\"Helvetica,sans-Serif\" font-size=\"14.00\" fill=\"#000000\">value = [0, 2, 7]</text>\n<text text-anchor=\"middle\" x=\"446\" y=\"-349.8\" font-family=\"Helvetica,sans-Serif\" font-size=\"14.00\" fill=\"#000000\">class = Iris&#45;virginica</text>\n</g>\n<!-- 8&#45;&gt;9 -->\n<g id=\"edge9\" class=\"edge\">\n<title>8&#45;&gt;9</title>\n<path fill=\"none\" stroke=\"#000000\" d=\"M446,-460.8796C446,-452.6838 446,-443.9891 446,-435.5013\"/>\n<polygon fill=\"#000000\" stroke=\"#000000\" points=\"449.5001,-435.298 446,-425.2981 442.5001,-435.2981 449.5001,-435.298\"/>\n</g>\n<!-- 16 -->\n<g id=\"node17\" class=\"node\">\n<title>16</title>\n<path fill=\"#8139e5\" stroke=\"#000000\" d=\"M674.5,-417.5C674.5,-417.5 555.5,-417.5 555.5,-417.5 549.5,-417.5 543.5,-411.5 543.5,-405.5 543.5,-405.5 543.5,-361.5 543.5,-361.5 543.5,-355.5 549.5,-349.5 555.5,-349.5 555.5,-349.5 674.5,-349.5 674.5,-349.5 680.5,-349.5 686.5,-355.5 686.5,-361.5 686.5,-361.5 686.5,-405.5 686.5,-405.5 686.5,-411.5 680.5,-417.5 674.5,-417.5\"/>\n<text text-anchor=\"middle\" x=\"615\" y=\"-402.3\" font-family=\"Helvetica,sans-Serif\" font-size=\"14.00\" fill=\"#000000\">entropy = 0.0</text>\n<text text-anchor=\"middle\" x=\"615\" y=\"-387.3\" font-family=\"Helvetica,sans-Serif\" font-size=\"14.00\" fill=\"#000000\">samples = 27</text>\n<text text-anchor=\"middle\" x=\"615\" y=\"-372.3\" font-family=\"Helvetica,sans-Serif\" font-size=\"14.00\" fill=\"#000000\">value = [0, 0, 27]</text>\n<text text-anchor=\"middle\" x=\"615\" y=\"-357.3\" font-family=\"Helvetica,sans-Serif\" font-size=\"14.00\" fill=\"#000000\">class = Iris&#45;virginica</text>\n</g>\n<!-- 8&#45;&gt;16 -->\n<g id=\"edge16\" class=\"edge\">\n<title>8&#45;&gt;16</title>\n<path fill=\"none\" stroke=\"#000000\" d=\"M505.108,-460.8796C522.3677,-448.7263 541.1856,-435.4759 558.293,-423.4297\"/>\n<polygon fill=\"#000000\" stroke=\"#000000\" points=\"560.3782,-426.2421 566.5396,-417.623 556.3481,-420.5187 560.3782,-426.2421\"/>\n</g>\n<!-- 10 -->\n<g id=\"node11\" class=\"node\">\n<title>10</title>\n<path fill=\"#8139e5\" stroke=\"#000000\" d=\"M499.5,-298.5C499.5,-298.5 380.5,-298.5 380.5,-298.5 374.5,-298.5 368.5,-292.5 368.5,-286.5 368.5,-286.5 368.5,-242.5 368.5,-242.5 368.5,-236.5 374.5,-230.5 380.5,-230.5 380.5,-230.5 499.5,-230.5 499.5,-230.5 505.5,-230.5 511.5,-236.5 511.5,-242.5 511.5,-242.5 511.5,-286.5 511.5,-286.5 511.5,-292.5 505.5,-298.5 499.5,-298.5\"/>\n<text text-anchor=\"middle\" x=\"440\" y=\"-283.3\" font-family=\"Helvetica,sans-Serif\" font-size=\"14.00\" fill=\"#000000\">entropy = 0.0</text>\n<text text-anchor=\"middle\" x=\"440\" y=\"-268.3\" font-family=\"Helvetica,sans-Serif\" font-size=\"14.00\" fill=\"#000000\">samples = 6</text>\n<text text-anchor=\"middle\" x=\"440\" y=\"-253.3\" font-family=\"Helvetica,sans-Serif\" font-size=\"14.00\" fill=\"#000000\">value = [0, 0, 6]</text>\n<text text-anchor=\"middle\" x=\"440\" y=\"-238.3\" font-family=\"Helvetica,sans-Serif\" font-size=\"14.00\" fill=\"#000000\">class = Iris&#45;virginica</text>\n</g>\n<!-- 9&#45;&gt;10 -->\n<g id=\"edge10\" class=\"edge\">\n<title>9&#45;&gt;10</title>\n<path fill=\"none\" stroke=\"#000000\" d=\"M443.9015,-341.8796C443.3637,-331.2134 442.7833,-319.7021 442.2387,-308.9015\"/>\n<polygon fill=\"#000000\" stroke=\"#000000\" points=\"445.7294,-308.626 441.7302,-298.8149 438.7383,-308.9785 445.7294,-308.626\"/>\n</g>\n<!-- 11 -->\n<g id=\"node12\" class=\"node\">\n<title>11</title>\n<path fill=\"#9cf2c0\" stroke=\"#000000\" d=\"M680,-306C680,-306 542,-306 542,-306 536,-306 530,-300 530,-294 530,-294 530,-235 530,-235 530,-229 536,-223 542,-223 542,-223 680,-223 680,-223 686,-223 692,-229 692,-235 692,-235 692,-294 692,-294 692,-300 686,-306 680,-306\"/>\n<text text-anchor=\"middle\" x=\"611\" y=\"-290.8\" font-family=\"Helvetica,sans-Serif\" font-size=\"14.00\" fill=\"#000000\">largura_petala &lt;= 1.75</text>\n<text text-anchor=\"middle\" x=\"611\" y=\"-275.8\" font-family=\"Helvetica,sans-Serif\" font-size=\"14.00\" fill=\"#000000\">entropy = 0.918</text>\n<text text-anchor=\"middle\" x=\"611\" y=\"-260.8\" font-family=\"Helvetica,sans-Serif\" font-size=\"14.00\" fill=\"#000000\">samples = 3</text>\n<text text-anchor=\"middle\" x=\"611\" y=\"-245.8\" font-family=\"Helvetica,sans-Serif\" font-size=\"14.00\" fill=\"#000000\">value = [0, 2, 1]</text>\n<text text-anchor=\"middle\" x=\"611\" y=\"-230.8\" font-family=\"Helvetica,sans-Serif\" font-size=\"14.00\" fill=\"#000000\">class = Iris&#45;versicolor</text>\n</g>\n<!-- 9&#45;&gt;11 -->\n<g id=\"edge11\" class=\"edge\">\n<title>9&#45;&gt;11</title>\n<path fill=\"none\" stroke=\"#000000\" d=\"M503.709,-341.8796C517.023,-332.2774 531.2866,-321.9903 544.9259,-312.1534\"/>\n<polygon fill=\"#000000\" stroke=\"#000000\" points=\"547.2602,-314.7852 553.3236,-306.0969 543.1655,-309.1077 547.2602,-314.7852\"/>\n</g>\n<!-- 12 -->\n<g id=\"node13\" class=\"node\">\n<title>12</title>\n<path fill=\"#39e581\" stroke=\"#000000\" d=\"M584,-179.5C584,-179.5 456,-179.5 456,-179.5 450,-179.5 444,-173.5 444,-167.5 444,-167.5 444,-123.5 444,-123.5 444,-117.5 450,-111.5 456,-111.5 456,-111.5 584,-111.5 584,-111.5 590,-111.5 596,-117.5 596,-123.5 596,-123.5 596,-167.5 596,-167.5 596,-173.5 590,-179.5 584,-179.5\"/>\n<text text-anchor=\"middle\" x=\"520\" y=\"-164.3\" font-family=\"Helvetica,sans-Serif\" font-size=\"14.00\" fill=\"#000000\">entropy = 0.0</text>\n<text text-anchor=\"middle\" x=\"520\" y=\"-149.3\" font-family=\"Helvetica,sans-Serif\" font-size=\"14.00\" fill=\"#000000\">samples = 1</text>\n<text text-anchor=\"middle\" x=\"520\" y=\"-134.3\" font-family=\"Helvetica,sans-Serif\" font-size=\"14.00\" fill=\"#000000\">value = [0, 1, 0]</text>\n<text text-anchor=\"middle\" x=\"520\" y=\"-119.3\" font-family=\"Helvetica,sans-Serif\" font-size=\"14.00\" fill=\"#000000\">class = Iris&#45;versicolor</text>\n</g>\n<!-- 11&#45;&gt;12 -->\n<g id=\"edge12\" class=\"edge\">\n<title>11&#45;&gt;12</title>\n<path fill=\"none\" stroke=\"#000000\" d=\"M579.1726,-222.8796C570.5116,-211.5536 561.1219,-199.2748 552.428,-187.9058\"/>\n<polygon fill=\"#000000\" stroke=\"#000000\" points=\"555.0956,-185.6324 546.2408,-179.8149 549.5351,-189.8846 555.0956,-185.6324\"/>\n</g>\n<!-- 13 -->\n<g id=\"node14\" class=\"node\">\n<title>13</title>\n<path fill=\"#ffffff\" stroke=\"#000000\" d=\"M776,-187C776,-187 626,-187 626,-187 620,-187 614,-181 614,-175 614,-175 614,-116 614,-116 614,-110 620,-104 626,-104 626,-104 776,-104 776,-104 782,-104 788,-110 788,-116 788,-116 788,-175 788,-175 788,-181 782,-187 776,-187\"/>\n<text text-anchor=\"middle\" x=\"701\" y=\"-171.8\" font-family=\"Helvetica,sans-Serif\" font-size=\"14.00\" fill=\"#000000\">tamanho_petala &lt;= 4.85</text>\n<text text-anchor=\"middle\" x=\"701\" y=\"-156.8\" font-family=\"Helvetica,sans-Serif\" font-size=\"14.00\" fill=\"#000000\">entropy = 1.0</text>\n<text text-anchor=\"middle\" x=\"701\" y=\"-141.8\" font-family=\"Helvetica,sans-Serif\" font-size=\"14.00\" fill=\"#000000\">samples = 2</text>\n<text text-anchor=\"middle\" x=\"701\" y=\"-126.8\" font-family=\"Helvetica,sans-Serif\" font-size=\"14.00\" fill=\"#000000\">value = [0, 1, 1]</text>\n<text text-anchor=\"middle\" x=\"701\" y=\"-111.8\" font-family=\"Helvetica,sans-Serif\" font-size=\"14.00\" fill=\"#000000\">class = Iris&#45;versicolor</text>\n</g>\n<!-- 11&#45;&gt;13 -->\n<g id=\"edge13\" class=\"edge\">\n<title>11&#45;&gt;13</title>\n<path fill=\"none\" stroke=\"#000000\" d=\"M642.4776,-222.8796C649.1529,-214.0534 656.2658,-204.6485 663.1496,-195.5466\"/>\n<polygon fill=\"#000000\" stroke=\"#000000\" points=\"666.1474,-197.3852 669.388,-187.2981 660.5643,-193.1626 666.1474,-197.3852\"/>\n</g>\n<!-- 14 -->\n<g id=\"node15\" class=\"node\">\n<title>14</title>\n<path fill=\"#39e581\" stroke=\"#000000\" d=\"M682,-68C682,-68 554,-68 554,-68 548,-68 542,-62 542,-56 542,-56 542,-12 542,-12 542,-6 548,0 554,0 554,0 682,0 682,0 688,0 694,-6 694,-12 694,-12 694,-56 694,-56 694,-62 688,-68 682,-68\"/>\n<text text-anchor=\"middle\" x=\"618\" y=\"-52.8\" font-family=\"Helvetica,sans-Serif\" font-size=\"14.00\" fill=\"#000000\">entropy = 0.0</text>\n<text text-anchor=\"middle\" x=\"618\" y=\"-37.8\" font-family=\"Helvetica,sans-Serif\" font-size=\"14.00\" fill=\"#000000\">samples = 1</text>\n<text text-anchor=\"middle\" x=\"618\" y=\"-22.8\" font-family=\"Helvetica,sans-Serif\" font-size=\"14.00\" fill=\"#000000\">value = [0, 1, 0]</text>\n<text text-anchor=\"middle\" x=\"618\" y=\"-7.8\" font-family=\"Helvetica,sans-Serif\" font-size=\"14.00\" fill=\"#000000\">class = Iris&#45;versicolor</text>\n</g>\n<!-- 13&#45;&gt;14 -->\n<g id=\"edge14\" class=\"edge\">\n<title>13&#45;&gt;14</title>\n<path fill=\"none\" stroke=\"#000000\" d=\"M670.0939,-103.9815C663.3892,-94.9747 656.2892,-85.4367 649.5597,-76.3965\"/>\n<polygon fill=\"#000000\" stroke=\"#000000\" points=\"652.2845,-74.1953 643.5057,-68.2637 646.6694,-78.3752 652.2845,-74.1953\"/>\n</g>\n<!-- 15 -->\n<g id=\"node16\" class=\"node\">\n<title>15</title>\n<path fill=\"#8139e5\" stroke=\"#000000\" d=\"M843.5,-68C843.5,-68 724.5,-68 724.5,-68 718.5,-68 712.5,-62 712.5,-56 712.5,-56 712.5,-12 712.5,-12 712.5,-6 718.5,0 724.5,0 724.5,0 843.5,0 843.5,0 849.5,0 855.5,-6 855.5,-12 855.5,-12 855.5,-56 855.5,-56 855.5,-62 849.5,-68 843.5,-68\"/>\n<text text-anchor=\"middle\" x=\"784\" y=\"-52.8\" font-family=\"Helvetica,sans-Serif\" font-size=\"14.00\" fill=\"#000000\">entropy = 0.0</text>\n<text text-anchor=\"middle\" x=\"784\" y=\"-37.8\" font-family=\"Helvetica,sans-Serif\" font-size=\"14.00\" fill=\"#000000\">samples = 1</text>\n<text text-anchor=\"middle\" x=\"784\" y=\"-22.8\" font-family=\"Helvetica,sans-Serif\" font-size=\"14.00\" fill=\"#000000\">value = [0, 0, 1]</text>\n<text text-anchor=\"middle\" x=\"784\" y=\"-7.8\" font-family=\"Helvetica,sans-Serif\" font-size=\"14.00\" fill=\"#000000\">class = Iris&#45;virginica</text>\n</g>\n<!-- 13&#45;&gt;15 -->\n<g id=\"edge15\" class=\"edge\">\n<title>13&#45;&gt;15</title>\n<path fill=\"none\" stroke=\"#000000\" d=\"M731.9061,-103.9815C738.6108,-94.9747 745.7108,-85.4367 752.4403,-76.3965\"/>\n<polygon fill=\"#000000\" stroke=\"#000000\" points=\"755.3306,-78.3752 758.4943,-68.2637 749.7155,-74.1953 755.3306,-78.3752\"/>\n</g>\n</g>\n</svg>\n"
          },
          "metadata": {},
          "execution_count": 12
        }
      ]
    }
  ]
}
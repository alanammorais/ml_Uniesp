{
  "nbformat": 4,
  "nbformat_minor": 0,
  "metadata": {
    "colab": {
      "name": "ensemble 01.ipynb",
      "provenance": []
    },
    "kernelspec": {
      "name": "python3",
      "display_name": "Python 3"
    },
    "language_info": {
      "name": "python"
    }
  },
  "cells": [
    {
      "cell_type": "markdown",
      "source": [
        "## Exemplo de Ensembles"
      ],
      "metadata": {
        "id": "DT27h-6tiaya"
      }
    },
    {
      "cell_type": "code",
      "source": [
        "from sklearn.model_selection import train_test_split\n",
        "import pandas as pd"
      ],
      "metadata": {
        "id": "LiTu2bwejPBA"
      },
      "execution_count": 24,
      "outputs": []
    },
    {
      "cell_type": "code",
      "execution_count": 4,
      "metadata": {
        "id": "xvrFR9yt9sU2"
      },
      "outputs": [],
      "source": [
        "from sklearn.datasets import fetch_openml\n",
        "\n",
        "# Carregando dados de from https://www.openml.org/d/554\n",
        "X, y = fetch_openml('mnist_784', version=1, return_X_y=True)"
      ]
    },
    {
      "cell_type": "code",
      "source": [
        "# somente para aula / diminuir a base\n",
        "x_train, x_test, y_train, y_test = train_test_split(\n",
        "    X, y, test_size=0.9, stratify=y)\n",
        "X = x_train\n",
        "y = y_train\n",
        "\n",
        "del(x_train)\n",
        "del(y_train)\n",
        "del(y_test)\n",
        "del(x_test)"
      ],
      "metadata": {
        "id": "ZMO7A-WTjar7"
      },
      "execution_count": 8,
      "outputs": []
    },
    {
      "cell_type": "code",
      "source": [
        "print(X.shape)\n",
        "print(y.shape)"
      ],
      "metadata": {
        "colab": {
          "base_uri": "https://localhost:8080/"
        },
        "id": "nkqmEVEIioFB",
        "outputId": "ac08a82c-db93-49d3-aee7-42a56818ebab"
      },
      "execution_count": 9,
      "outputs": [
        {
          "output_type": "stream",
          "name": "stdout",
          "text": [
            "(7000, 784)\n",
            "(7000,)\n"
          ]
        }
      ]
    },
    {
      "cell_type": "code",
      "source": [
        "# Segmentar dados em treino e teste\n",
        "x_train, x_test, y_train, y_test = train_test_split(\n",
        "    X, y, test_size=0.30, stratify=y, random_state=4)"
      ],
      "metadata": {
        "id": "qZ7sLEqei6ZD"
      },
      "execution_count": 10,
      "outputs": []
    },
    {
      "cell_type": "code",
      "source": [
        "results = pd.DataFrame()"
      ],
      "metadata": {
        "id": "Ynllcj5-uuZi"
      },
      "execution_count": 25,
      "outputs": []
    },
    {
      "cell_type": "markdown",
      "source": [
        "## Modelos"
      ],
      "metadata": {
        "id": "sNblZ-JWlUUs"
      }
    },
    {
      "cell_type": "code",
      "source": [
        "from sklearn.ensemble import RandomForestClassifier, BaggingClassifier\n",
        "from sklearn.ensemble import AdaBoostClassifier\n",
        "from sklearn.metrics import accuracy_score\n",
        "from sklearn.model_selection import cross_val_score"
      ],
      "metadata": {
        "id": "lAMwWXNrleaQ"
      },
      "execution_count": 29,
      "outputs": []
    },
    {
      "cell_type": "code",
      "source": [
        "# Random Forest\n",
        "rf = RandomForestClassifier(n_estimators=20)\n",
        "rf.fit(x_train, y_train)"
      ],
      "metadata": {
        "colab": {
          "base_uri": "https://localhost:8080/"
        },
        "id": "bNbOacvQkyDT",
        "outputId": "2eb3e096-be74-4df1-daa4-73c52dbab2f5"
      },
      "execution_count": 30,
      "outputs": [
        {
          "output_type": "execute_result",
          "data": {
            "text/plain": [
              "RandomForestClassifier(n_estimators=20)"
            ]
          },
          "metadata": {},
          "execution_count": 30
        }
      ]
    },
    {
      "cell_type": "code",
      "source": [
        "y_pred = rf.predict(x_test)\n",
        "accuracy_score(y_test, y_pred)"
      ],
      "metadata": {
        "colab": {
          "base_uri": "https://localhost:8080/"
        },
        "id": "ouBJXlB8oZFO",
        "outputId": "b5d92b9c-adbc-4df7-8826-1f2444117076"
      },
      "execution_count": 31,
      "outputs": [
        {
          "output_type": "execute_result",
          "data": {
            "text/plain": [
              "0.9176190476190477"
            ]
          },
          "metadata": {},
          "execution_count": 31
        }
      ]
    },
    {
      "cell_type": "code",
      "source": [
        "resp = cross_val_score(rf, x_train , y_train, scoring='accuracy')\n",
        "results['RandomForest'] = resp"
      ],
      "metadata": {
        "id": "-xUBAX5fu3I0"
      },
      "execution_count": 32,
      "outputs": []
    },
    {
      "cell_type": "markdown",
      "source": [
        "--------"
      ],
      "metadata": {
        "id": "x1yVu9cgo2nb"
      }
    },
    {
      "cell_type": "code",
      "source": [
        "# bagging\n",
        "bg = BaggingClassifier()\n",
        "bg.fit(x_train, y_train)"
      ],
      "metadata": {
        "colab": {
          "base_uri": "https://localhost:8080/"
        },
        "id": "-JGXfEekk2Xv",
        "outputId": "4d41eb57-90e9-438a-d68c-29262582aff2"
      },
      "execution_count": 33,
      "outputs": [
        {
          "output_type": "execute_result",
          "data": {
            "text/plain": [
              "BaggingClassifier()"
            ]
          },
          "metadata": {},
          "execution_count": 33
        }
      ]
    },
    {
      "cell_type": "code",
      "source": [
        "y_pred = bg.predict(x_test)\n",
        "accuracy_score(y_test, y_pred)"
      ],
      "metadata": {
        "colab": {
          "base_uri": "https://localhost:8080/"
        },
        "id": "5aHz_yNppleC",
        "outputId": "27381faf-e78c-48ac-a1b7-eec71668b854"
      },
      "execution_count": 34,
      "outputs": [
        {
          "output_type": "execute_result",
          "data": {
            "text/plain": [
              "0.8871428571428571"
            ]
          },
          "metadata": {},
          "execution_count": 34
        }
      ]
    },
    {
      "cell_type": "code",
      "source": [
        "resp = cross_val_score(bg, x_train , y_train, scoring='accuracy')\n",
        "results['Bagging'] = resp"
      ],
      "metadata": {
        "id": "AtH036WMvdKl"
      },
      "execution_count": 35,
      "outputs": []
    },
    {
      "cell_type": "markdown",
      "source": [
        "----"
      ],
      "metadata": {
        "id": "wyiYzAchplna"
      }
    },
    {
      "cell_type": "code",
      "source": [
        "# ada boosting\n",
        "adb = AdaBoostClassifier()\n",
        "adb.fit(x_train, y_train)"
      ],
      "metadata": {
        "colab": {
          "base_uri": "https://localhost:8080/"
        },
        "id": "1F506Gyvk5Yg",
        "outputId": "567f333c-98b1-43f6-ef3f-bd157c7ebd49"
      },
      "execution_count": 36,
      "outputs": [
        {
          "output_type": "execute_result",
          "data": {
            "text/plain": [
              "AdaBoostClassifier()"
            ]
          },
          "metadata": {},
          "execution_count": 36
        }
      ]
    },
    {
      "cell_type": "code",
      "source": [
        "y_pred = adb.predict(x_test)\n",
        "accuracy_score(y_test, y_pred)"
      ],
      "metadata": {
        "colab": {
          "base_uri": "https://localhost:8080/"
        },
        "id": "Y14Yq9vXqZ59",
        "outputId": "61c86d2b-5a66-4ef0-b259-0783806e08db"
      },
      "execution_count": 37,
      "outputs": [
        {
          "output_type": "execute_result",
          "data": {
            "text/plain": [
              "0.7019047619047619"
            ]
          },
          "metadata": {},
          "execution_count": 37
        }
      ]
    },
    {
      "cell_type": "code",
      "source": [
        "resp = cross_val_score(adb, x_train , y_train, scoring='accuracy')\n",
        "results['Ada'] = resp"
      ],
      "metadata": {
        "id": "8GXn5p4Ivg1_"
      },
      "execution_count": 38,
      "outputs": []
    },
    {
      "cell_type": "markdown",
      "source": [
        "------"
      ],
      "metadata": {
        "id": "KQNfa90Qqbig"
      }
    },
    {
      "cell_type": "code",
      "source": [
        "from sklearn.tree import DecisionTreeClassifier\n",
        "from sklearn.svm import SVC\n",
        "\n",
        "# decision tree\n",
        "dc = DecisionTreeClassifier()\n",
        "dc.fit(x_train, y_train)"
      ],
      "metadata": {
        "colab": {
          "base_uri": "https://localhost:8080/"
        },
        "id": "zQqQvSIEkuZS",
        "outputId": "afa75159-d40f-45bd-a072-43c4e1c9a4ee"
      },
      "execution_count": 39,
      "outputs": [
        {
          "output_type": "execute_result",
          "data": {
            "text/plain": [
              "DecisionTreeClassifier()"
            ]
          },
          "metadata": {},
          "execution_count": 39
        }
      ]
    },
    {
      "cell_type": "code",
      "source": [
        "y_pred = dc.predict(x_test)\n",
        "accuracy_score(y_test, y_pred)"
      ],
      "metadata": {
        "colab": {
          "base_uri": "https://localhost:8080/"
        },
        "id": "9PdmPaFKsPJ7",
        "outputId": "e747ebdb-834d-42d0-9521-6a32cf60f546"
      },
      "execution_count": 40,
      "outputs": [
        {
          "output_type": "execute_result",
          "data": {
            "text/plain": [
              "0.7657142857142857"
            ]
          },
          "metadata": {},
          "execution_count": 40
        }
      ]
    },
    {
      "cell_type": "code",
      "source": [
        "resp = cross_val_score(dc, x_train , y_train, scoring='accuracy')\n",
        "results['DecisionTree'] = resp"
      ],
      "metadata": {
        "id": "y5ngNSAMvlXa"
      },
      "execution_count": 41,
      "outputs": []
    },
    {
      "cell_type": "markdown",
      "source": [
        "----"
      ],
      "metadata": {
        "id": "Sj-JqKBpsP5h"
      }
    },
    {
      "cell_type": "code",
      "source": [
        "# svc\n",
        "svc = SVC()\n",
        "svc.fit(x_train, y_train)"
      ],
      "metadata": {
        "colab": {
          "base_uri": "https://localhost:8080/"
        },
        "id": "1E6iNyB_kwr4",
        "outputId": "35e1eca5-1e3d-41aa-9de6-0d69ff432dc3"
      },
      "execution_count": 42,
      "outputs": [
        {
          "output_type": "execute_result",
          "data": {
            "text/plain": [
              "SVC()"
            ]
          },
          "metadata": {},
          "execution_count": 42
        }
      ]
    },
    {
      "cell_type": "code",
      "source": [
        "y_pred = svc.predict(x_test)\n",
        "accuracy_score(y_test, y_pred)"
      ],
      "metadata": {
        "colab": {
          "base_uri": "https://localhost:8080/"
        },
        "id": "6IZoMleLsPx5",
        "outputId": "54c9eb69-6082-4400-8ae6-a00f83ff5c77"
      },
      "execution_count": 43,
      "outputs": [
        {
          "output_type": "execute_result",
          "data": {
            "text/plain": [
              "0.950952380952381"
            ]
          },
          "metadata": {},
          "execution_count": 43
        }
      ]
    },
    {
      "cell_type": "code",
      "source": [
        "resp = cross_val_score(svc, x_train , y_train, scoring='accuracy')\n",
        "results['SVC'] = resp"
      ],
      "metadata": {
        "id": "0z0COfc-ur9L"
      },
      "execution_count": 44,
      "outputs": []
    },
    {
      "cell_type": "markdown",
      "source": [
        "-----"
      ],
      "metadata": {
        "id": "_vEyU8e9sN6z"
      }
    },
    {
      "cell_type": "code",
      "source": [
        "import matplotlib.pyplot as plt\n",
        "import seaborn as sns\n",
        "\n",
        "labels= results.columns\n",
        "plt.figure(figsize=(20, 10))\n",
        "\n",
        "sns.boxplot(data = results).set_xticklabels(labels, rotation=90)"
      ],
      "metadata": {
        "colab": {
          "base_uri": "https://localhost:8080/",
          "height": 745
        },
        "id": "7GwoPYaTwlB7",
        "outputId": "1d9045e4-1b99-4b01-8c4f-c63daf3a2b40"
      },
      "execution_count": 45,
      "outputs": [
        {
          "output_type": "execute_result",
          "data": {
            "text/plain": [
              "[Text(0, 0, 'RandomForest'),\n",
              " Text(0, 0, 'Bagging'),\n",
              " Text(0, 0, 'Ada'),\n",
              " Text(0, 0, 'DecisionTree'),\n",
              " Text(0, 0, 'SVC')]"
            ]
          },
          "metadata": {},
          "execution_count": 45
        },
        {
          "output_type": "display_data",
          "data": {
            "text/plain": [
              "<Figure size 1440x720 with 1 Axes>"
            ],
            "image/png": "[encoded data removed]"
          },
          "metadata": {
            "needs_background": "light"
          }
        }
      ]
    },
    {
      "cell_type": "markdown",
      "source": [
        "----\n",
        "\n",
        "# Construir meu ensemble"
      ],
      "metadata": {
        "id": "zXfxB165xjt6"
      }
    },
    {
      "cell_type": "code",
      "source": [
        "dt_model = DecisionTreeClassifier()\n",
        "rf_model = RandomForestClassifier(n_estimators=20)\n",
        "bg_model = BaggingClassifier(\n",
        "    max_samples= 0.5, max_features = 1.0, n_estimators = 20)\n",
        "adb_model = AdaBoostClassifier(\n",
        "    n_estimators = 5, learning_rate = 1)"
      ],
      "metadata": {
        "id": "84NE2_VxxqGS"
      },
      "execution_count": 48,
      "outputs": []
    },
    {
      "cell_type": "code",
      "source": [
        "from sklearn.ensemble import VotingClassifier\n",
        "\n",
        "vc = VotingClassifier(\n",
        "  estimators=[\n",
        "    ('dt_model', dt_model), \n",
        "    ('rf_model', rf_model),\n",
        "    ('bg_model', bg_model),\n",
        "    ('adb_model', adb_model)             \n",
        "  ], voting = 'hard')"
      ],
      "metadata": {
        "id": "MhWhiLuwxqXQ"
      },
      "execution_count": 49,
      "outputs": []
    },
    {
      "cell_type": "code",
      "source": [
        "vc.fit(x_train, y_train)"
      ],
      "metadata": {
        "colab": {
          "base_uri": "https://localhost:8080/"
        },
        "id": "QAGIz17UxqpU",
        "outputId": "877b864d-4f94-4d1a-8f6c-b0f9c6c7a04e"
      },
      "execution_count": 50,
      "outputs": [
        {
          "output_type": "execute_result",
          "data": {
            "text/plain": [
              "VotingClassifier(estimators=[('dt_model', DecisionTreeClassifier()),\n",
              "                             ('rf_model',\n",
              "                              RandomForestClassifier(n_estimators=20)),\n",
              "                             ('bg_model',\n",
              "                              BaggingClassifier(max_samples=0.5,\n",
              "                                                n_estimators=20)),\n",
              "                             ('adb_model',\n",
              "                              AdaBoostClassifier(learning_rate=1,\n",
              "                                                 n_estimators=5))])"
            ]
          },
          "metadata": {},
          "execution_count": 50
        }
      ]
    },
    {
      "cell_type": "code",
      "source": [
        "y_pred = vc.predict(x_test)\n",
        "accuracy_score(y_test, y_pred)"
      ],
      "metadata": {
        "colab": {
          "base_uri": "https://localhost:8080/"
        },
        "id": "8d7ahbRqzf00",
        "outputId": "fe98bbcb-91df-476e-a47a-222a8155d47b"
      },
      "execution_count": 51,
      "outputs": [
        {
          "output_type": "execute_result",
          "data": {
            "text/plain": [
              "0.8961904761904762"
            ]
          },
          "metadata": {},
          "execution_count": 51
        }
      ]
    }
  ]
}
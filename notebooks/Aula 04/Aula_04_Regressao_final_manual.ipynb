{
  "nbformat": 4,
  "nbformat_minor": 0,
  "metadata": {
    "colab": {
      "name": "Aula 04_Regressao_final_manual.ipynb",
      "provenance": [],
      "collapsed_sections": []
    },
    "kernelspec": {
      "name": "python3",
      "display_name": "Python 3"
    }
  },
  "cells": [
    {
      "cell_type": "markdown",
      "metadata": {
        "id": "WEEM_sPtDVXk"
      },
      "source": [
        "# **Preparando os Dados**"
      ]
    },
    {
      "cell_type": "code",
      "metadata": {
        "id": "VjlHc2dIWJDD"
      },
      "source": [
        "import numpy as np\n",
        "import pandas as pd\n",
        "\n",
        "import random\n",
        "random.seed(42)"
      ],
      "execution_count": null,
      "outputs": []
    },
    {
      "cell_type": "code",
      "metadata": {
        "id": "Unk41mKoXBH1",
        "outputId": "c7233225-0a3d-4c6f-92f7-01e1a291c1ec",
        "colab": {
          "base_uri": "https://localhost:8080/",
          "height": 206
        }
      },
      "source": [
        "dados = pd.read_csv('https://raw.githubusercontent.com/alanammorais/ml_Uniesp/master/datasets/Aula%2004/dadosHab.csv')\n",
        "dados.head()"
      ],
      "execution_count": null,
      "outputs": [
        {
          "output_type": "execute_result",
          "data": {
            "text/plain": [
              "     Valor  Area  Dist_Praia  Dist_Farmacia\n",
              "0  4600000   280    0.240925       0.793637\n",
              "1   900000   208    0.904136       0.134494\n",
              "2  2550000   170    0.059525       0.423318\n",
              "3   550000   100    2.883181       0.525064\n",
              "4  2200000   164    0.239758       0.192374"
            ],
            "text/html": [
              "\n",
              "  <div id=\"df-0a4d0c8f-77f4-4bf4-afb5-96133892e874\">\n",
              "    <div class=\"colab-df-container\">\n",
              "      <div>\n",
              "<style scoped>\n",
              "    .dataframe tbody tr th:only-of-type {\n",
              "        vertical-align: middle;\n",
              "    }\n",
              "\n",
              "    .dataframe tbody tr th {\n",
              "        vertical-align: top;\n",
              "    }\n",
              "\n",
              "    .dataframe thead th {\n",
              "        text-align: right;\n",
              "    }\n",
              "</style>\n",
              "<table border=\"1\" class=\"dataframe\">\n",
              "  <thead>\n",
              "    <tr style=\"text-align: right;\">\n",
              "      <th></th>\n",
              "      <th>Valor</th>\n",
              "      <th>Area</th>\n",
              "      <th>Dist_Praia</th>\n",
              "      <th>Dist_Farmacia</th>\n",
              "    </tr>\n",
              "  </thead>\n",
              "  <tbody>\n",
              "    <tr>\n",
              "      <th>0</th>\n",
              "      <td>4600000</td>\n",
              "      <td>280</td>\n",
              "      <td>0.240925</td>\n",
              "      <td>0.793637</td>\n",
              "    </tr>\n",
              "    <tr>\n",
              "      <th>1</th>\n",
              "      <td>900000</td>\n",
              "      <td>208</td>\n",
              "      <td>0.904136</td>\n",
              "      <td>0.134494</td>\n",
              "    </tr>\n",
              "    <tr>\n",
              "      <th>2</th>\n",
              "      <td>2550000</td>\n",
              "      <td>170</td>\n",
              "      <td>0.059525</td>\n",
              "      <td>0.423318</td>\n",
              "    </tr>\n",
              "    <tr>\n",
              "      <th>3</th>\n",
              "      <td>550000</td>\n",
              "      <td>100</td>\n",
              "      <td>2.883181</td>\n",
              "      <td>0.525064</td>\n",
              "    </tr>\n",
              "    <tr>\n",
              "      <th>4</th>\n",
              "      <td>2200000</td>\n",
              "      <td>164</td>\n",
              "      <td>0.239758</td>\n",
              "      <td>0.192374</td>\n",
              "    </tr>\n",
              "  </tbody>\n",
              "</table>\n",
              "</div>\n",
              "      <button class=\"colab-df-convert\" onclick=\"convertToInteractive('df-0a4d0c8f-77f4-4bf4-afb5-96133892e874')\"\n",
              "              title=\"Convert this dataframe to an interactive table.\"\n",
              "              style=\"display:none;\">\n",
              "        \n",
              "  <svg xmlns=\"http://www.w3.org/2000/svg\" height=\"24px\"viewBox=\"0 0 24 24\"\n",
              "       width=\"24px\">\n",
              "    <path d=\"M0 0h24v24H0V0z\" fill=\"none\"/>\n",
              "    <path d=\"M18.56 5.44l.94 2.06.94-2.06 2.06-.94-2.06-.94-.94-2.06-.94 2.06-2.06.94zm-11 1L8.5 8.5l.94-2.06 2.06-.94-2.06-.94L8.5 2.5l-.94 2.06-2.06.94zm10 10l.94 2.06.94-2.06 2.06-.94-2.06-.94-.94-2.06-.94 2.06-2.06.94z\"/><path d=\"M17.41 7.96l-1.37-1.37c-.4-.4-.92-.59-1.43-.59-.52 0-1.04.2-1.43.59L10.3 9.45l-7.72 7.72c-.78.78-.78 2.05 0 2.83L4 21.41c.39.39.9.59 1.41.59.51 0 1.02-.2 1.41-.59l7.78-7.78 2.81-2.81c.8-.78.8-2.07 0-2.86zM5.41 20L4 18.59l7.72-7.72 1.47 1.35L5.41 20z\"/>\n",
              "  </svg>\n",
              "      </button>\n",
              "      \n",
              "  <style>\n",
              "    .colab-df-container {\n",
              "      display:flex;\n",
              "      flex-wrap:wrap;\n",
              "      gap: 12px;\n",
              "    }\n",
              "\n",
              "    .colab-df-convert {\n",
              "      background-color: #E8F0FE;\n",
              "      border: none;\n",
              "      border-radius: 50%;\n",
              "      cursor: pointer;\n",
              "      display: none;\n",
              "      fill: #1967D2;\n",
              "      height: 32px;\n",
              "      padding: 0 0 0 0;\n",
              "      width: 32px;\n",
              "    }\n",
              "\n",
              "    .colab-df-convert:hover {\n",
              "      background-color: #E2EBFA;\n",
              "      box-shadow: 0px 1px 2px rgba(60, 64, 67, 0.3), 0px 1px 3px 1px rgba(60, 64, 67, 0.15);\n",
              "      fill: #174EA6;\n",
              "    }\n",
              "\n",
              "    [theme=dark] .colab-df-convert {\n",
              "      background-color: #3B4455;\n",
              "      fill: #D2E3FC;\n",
              "    }\n",
              "\n",
              "    [theme=dark] .colab-df-convert:hover {\n",
              "      background-color: #434B5C;\n",
              "      box-shadow: 0px 1px 3px 1px rgba(0, 0, 0, 0.15);\n",
              "      filter: drop-shadow(0px 1px 2px rgba(0, 0, 0, 0.3));\n",
              "      fill: #FFFFFF;\n",
              "    }\n",
              "  </style>\n",
              "\n",
              "      <script>\n",
              "        const buttonEl =\n",
              "          document.querySelector('#df-0a4d0c8f-77f4-4bf4-afb5-96133892e874 button.colab-df-convert');\n",
              "        buttonEl.style.display =\n",
              "          google.colab.kernel.accessAllowed ? 'block' : 'none';\n",
              "\n",
              "        async function convertToInteractive(key) {\n",
              "          const element = document.querySelector('#df-0a4d0c8f-77f4-4bf4-afb5-96133892e874');\n",
              "          const dataTable =\n",
              "            await google.colab.kernel.invokeFunction('convertToInteractive',\n",
              "                                                     [key], {});\n",
              "          if (!dataTable) return;\n",
              "\n",
              "          const docLinkHtml = 'Like what you see? Visit the ' +\n",
              "            '<a target=\"_blank\" href=https://colab.research.google.com/notebooks/data_table.ipynb>data table notebook</a>'\n",
              "            + ' to learn more about interactive tables.';\n",
              "          element.innerHTML = '';\n",
              "          dataTable['output_type'] = 'display_data';\n",
              "          await google.colab.output.renderOutput(dataTable, element);\n",
              "          const docLink = document.createElement('div');\n",
              "          docLink.innerHTML = docLinkHtml;\n",
              "          element.appendChild(docLink);\n",
              "        }\n",
              "      </script>\n",
              "    </div>\n",
              "  </div>\n",
              "  "
            ]
          },
          "metadata": {},
          "execution_count": 2
        }
      ]
    },
    {
      "cell_type": "code",
      "source": [
        "dados.isna().sum()"
      ],
      "metadata": {
        "colab": {
          "base_uri": "https://localhost:8080/"
        },
        "id": "K6X3ueXuwnxo",
        "outputId": "32c28ff6-2755-43eb-99fb-63f484f9626a"
      },
      "execution_count": null,
      "outputs": [
        {
          "output_type": "execute_result",
          "data": {
            "text/plain": [
              "Valor            0\n",
              "Area             0\n",
              "Dist_Praia       0\n",
              "Dist_Farmacia    0\n",
              "dtype: int64"
            ]
          },
          "metadata": {},
          "execution_count": 3
        }
      ]
    },
    {
      "cell_type": "code",
      "source": [
        "dados.info()"
      ],
      "metadata": {
        "colab": {
          "base_uri": "https://localhost:8080/"
        },
        "id": "Nz1eLRJgwubr",
        "outputId": "827cf77e-ffc1-489d-9329-442fcda6f393"
      },
      "execution_count": null,
      "outputs": [
        {
          "output_type": "stream",
          "name": "stdout",
          "text": [
            "<class 'pandas.core.frame.DataFrame'>\n",
            "RangeIndex: 5000 entries, 0 to 4999\n",
            "Data columns (total 4 columns):\n",
            " #   Column         Non-Null Count  Dtype  \n",
            "---  ------         --------------  -----  \n",
            " 0   Valor          5000 non-null   int64  \n",
            " 1   Area           5000 non-null   int64  \n",
            " 2   Dist_Praia     5000 non-null   float64\n",
            " 3   Dist_Farmacia  5000 non-null   float64\n",
            "dtypes: float64(2), int64(2)\n",
            "memory usage: 156.4 KB\n"
          ]
        }
      ]
    },
    {
      "cell_type": "markdown",
      "metadata": {
        "id": "9BgSwVh6DZkM"
      },
      "source": [
        "## **Analisando as correlações - Análise Exploratória**\n",
        "\n",
        "\n"
      ]
    },
    {
      "cell_type": "code",
      "metadata": {
        "id": "upW8nNMSK8CH",
        "outputId": "bd2e76b6-851c-4490-e16d-38532c40426b",
        "colab": {
          "base_uri": "https://localhost:8080/",
          "height": 174
        }
      },
      "source": [
        "#verificar as correlações entre as variáveis\n",
        "dados.corr()"
      ],
      "execution_count": null,
      "outputs": [
        {
          "output_type": "execute_result",
          "data": {
            "text/plain": [
              "                  Valor      Area  Dist_Praia  Dist_Farmacia\n",
              "Valor          1.000000  0.710974   -0.366542      -0.024366\n",
              "Area           0.710974  1.000000   -0.283371      -0.030990\n",
              "Dist_Praia    -0.366542 -0.283371    1.000000       0.025645\n",
              "Dist_Farmacia -0.024366 -0.030990    0.025645       1.000000"
            ],
            "text/html": [
              "\n",
              "  <div id=\"df-d1a19ce1-e773-47a6-97b0-46c74bbd4d0a\">\n",
              "    <div class=\"colab-df-container\">\n",
              "      <div>\n",
              "<style scoped>\n",
              "    .dataframe tbody tr th:only-of-type {\n",
              "        vertical-align: middle;\n",
              "    }\n",
              "\n",
              "    .dataframe tbody tr th {\n",
              "        vertical-align: top;\n",
              "    }\n",
              "\n",
              "    .dataframe thead th {\n",
              "        text-align: right;\n",
              "    }\n",
              "</style>\n",
              "<table border=\"1\" class=\"dataframe\">\n",
              "  <thead>\n",
              "    <tr style=\"text-align: right;\">\n",
              "      <th></th>\n",
              "      <th>Valor</th>\n",
              "      <th>Area</th>\n",
              "      <th>Dist_Praia</th>\n",
              "      <th>Dist_Farmacia</th>\n",
              "    </tr>\n",
              "  </thead>\n",
              "  <tbody>\n",
              "    <tr>\n",
              "      <th>Valor</th>\n",
              "      <td>1.000000</td>\n",
              "      <td>0.710974</td>\n",
              "      <td>-0.366542</td>\n",
              "      <td>-0.024366</td>\n",
              "    </tr>\n",
              "    <tr>\n",
              "      <th>Area</th>\n",
              "      <td>0.710974</td>\n",
              "      <td>1.000000</td>\n",
              "      <td>-0.283371</td>\n",
              "      <td>-0.030990</td>\n",
              "    </tr>\n",
              "    <tr>\n",
              "      <th>Dist_Praia</th>\n",
              "      <td>-0.366542</td>\n",
              "      <td>-0.283371</td>\n",
              "      <td>1.000000</td>\n",
              "      <td>0.025645</td>\n",
              "    </tr>\n",
              "    <tr>\n",
              "      <th>Dist_Farmacia</th>\n",
              "      <td>-0.024366</td>\n",
              "      <td>-0.030990</td>\n",
              "      <td>0.025645</td>\n",
              "      <td>1.000000</td>\n",
              "    </tr>\n",
              "  </tbody>\n",
              "</table>\n",
              "</div>\n",
              "      <button class=\"colab-df-convert\" onclick=\"convertToInteractive('df-d1a19ce1-e773-47a6-97b0-46c74bbd4d0a')\"\n",
              "              title=\"Convert this dataframe to an interactive table.\"\n",
              "              style=\"display:none;\">\n",
              "        \n",
              "  <svg xmlns=\"http://www.w3.org/2000/svg\" height=\"24px\"viewBox=\"0 0 24 24\"\n",
              "       width=\"24px\">\n",
              "    <path d=\"M0 0h24v24H0V0z\" fill=\"none\"/>\n",
              "    <path d=\"M18.56 5.44l.94 2.06.94-2.06 2.06-.94-2.06-.94-.94-2.06-.94 2.06-2.06.94zm-11 1L8.5 8.5l.94-2.06 2.06-.94-2.06-.94L8.5 2.5l-.94 2.06-2.06.94zm10 10l.94 2.06.94-2.06 2.06-.94-2.06-.94-.94-2.06-.94 2.06-2.06.94z\"/><path d=\"M17.41 7.96l-1.37-1.37c-.4-.4-.92-.59-1.43-.59-.52 0-1.04.2-1.43.59L10.3 9.45l-7.72 7.72c-.78.78-.78 2.05 0 2.83L4 21.41c.39.39.9.59 1.41.59.51 0 1.02-.2 1.41-.59l7.78-7.78 2.81-2.81c.8-.78.8-2.07 0-2.86zM5.41 20L4 18.59l7.72-7.72 1.47 1.35L5.41 20z\"/>\n",
              "  </svg>\n",
              "      </button>\n",
              "      \n",
              "  <style>\n",
              "    .colab-df-container {\n",
              "      display:flex;\n",
              "      flex-wrap:wrap;\n",
              "      gap: 12px;\n",
              "    }\n",
              "\n",
              "    .colab-df-convert {\n",
              "      background-color: #E8F0FE;\n",
              "      border: none;\n",
              "      border-radius: 50%;\n",
              "      cursor: pointer;\n",
              "      display: none;\n",
              "      fill: #1967D2;\n",
              "      height: 32px;\n",
              "      padding: 0 0 0 0;\n",
              "      width: 32px;\n",
              "    }\n",
              "\n",
              "    .colab-df-convert:hover {\n",
              "      background-color: #E2EBFA;\n",
              "      box-shadow: 0px 1px 2px rgba(60, 64, 67, 0.3), 0px 1px 3px 1px rgba(60, 64, 67, 0.15);\n",
              "      fill: #174EA6;\n",
              "    }\n",
              "\n",
              "    [theme=dark] .colab-df-convert {\n",
              "      background-color: #3B4455;\n",
              "      fill: #D2E3FC;\n",
              "    }\n",
              "\n",
              "    [theme=dark] .colab-df-convert:hover {\n",
              "      background-color: #434B5C;\n",
              "      box-shadow: 0px 1px 3px 1px rgba(0, 0, 0, 0.15);\n",
              "      filter: drop-shadow(0px 1px 2px rgba(0, 0, 0, 0.3));\n",
              "      fill: #FFFFFF;\n",
              "    }\n",
              "  </style>\n",
              "\n",
              "      <script>\n",
              "        const buttonEl =\n",
              "          document.querySelector('#df-d1a19ce1-e773-47a6-97b0-46c74bbd4d0a button.colab-df-convert');\n",
              "        buttonEl.style.display =\n",
              "          google.colab.kernel.accessAllowed ? 'block' : 'none';\n",
              "\n",
              "        async function convertToInteractive(key) {\n",
              "          const element = document.querySelector('#df-d1a19ce1-e773-47a6-97b0-46c74bbd4d0a');\n",
              "          const dataTable =\n",
              "            await google.colab.kernel.invokeFunction('convertToInteractive',\n",
              "                                                     [key], {});\n",
              "          if (!dataTable) return;\n",
              "\n",
              "          const docLinkHtml = 'Like what you see? Visit the ' +\n",
              "            '<a target=\"_blank\" href=https://colab.research.google.com/notebooks/data_table.ipynb>data table notebook</a>'\n",
              "            + ' to learn more about interactive tables.';\n",
              "          element.innerHTML = '';\n",
              "          dataTable['output_type'] = 'display_data';\n",
              "          await google.colab.output.renderOutput(dataTable, element);\n",
              "          const docLink = document.createElement('div');\n",
              "          docLink.innerHTML = docLinkHtml;\n",
              "          element.appendChild(docLink);\n",
              "        }\n",
              "      </script>\n",
              "    </div>\n",
              "  </div>\n",
              "  "
            ]
          },
          "metadata": {},
          "execution_count": 3
        }
      ]
    },
    {
      "cell_type": "markdown",
      "metadata": {
        "id": "zZn5zVLKdPhO"
      },
      "source": [
        "## **Abordagem I - Sem Sklearn**"
      ]
    },
    {
      "cell_type": "code",
      "metadata": {
        "id": "RAtnrswlbdGB"
      },
      "source": [
        "import matplotlib.pyplot as plt\n",
        "import seaborn as sns\n",
        "%matplotlib inline"
      ],
      "execution_count": null,
      "outputs": []
    },
    {
      "cell_type": "code",
      "source": [
        "valor = dados['Valor']\n",
        "area = dados['Area']"
      ],
      "metadata": {
        "id": "chsSXLYIydgf"
      },
      "execution_count": null,
      "outputs": []
    },
    {
      "cell_type": "code",
      "source": [
        "ax = sns.scatterplot(x=area, y=valor)\n",
        "\n",
        "ax.set_title('Dados dispersos')\n",
        "ax.set_xlabel('Área')\n",
        "ax.set_ylabel('Valor')\n",
        "plt.show()"
      ],
      "metadata": {
        "colab": {
          "base_uri": "https://localhost:8080/",
          "height": 294
        },
        "id": "b9L_Xy4vyZNd",
        "outputId": "36a7d168-73eb-4131-bfce-291e53456a6b"
      },
      "execution_count": null,
      "outputs": [
        {
          "output_type": "display_data",
          "data": {
            "text/plain": [
              "<Figure size 432x288 with 1 Axes>"
            ],
            "image/png": "[encoded data removed]"
          },
          "metadata": {
            "needs_background": "light"
          }
        }
      ]
    },
    {
      "cell_type": "markdown",
      "source": [
        "----"
      ],
      "metadata": {
        "id": "URntWDCqymyn"
      }
    },
    {
      "cell_type": "code",
      "metadata": {
        "id": "5JxrzA8mbULL"
      },
      "source": [
        "#transformando os dados para facilitar a visualização\n",
        "valor = np.log(dados['Valor'])\n",
        "area = np.log(dados['Area'])"
      ],
      "execution_count": null,
      "outputs": []
    },
    {
      "cell_type": "code",
      "metadata": {
        "id": "93x-NI1cbiPJ",
        "outputId": "d0b75a34-5eae-4f18-d74e-cbad71d787ad",
        "colab": {
          "base_uri": "https://localhost:8080/",
          "height": 294
        }
      },
      "source": [
        "ax = sns.scatterplot(x=area, y=valor)\n",
        "\n",
        "ax.set_title('Dados dispersos')\n",
        "ax.set_xlabel('Área')\n",
        "ax.set_ylabel('Valor')\n",
        "plt.show()"
      ],
      "execution_count": null,
      "outputs": [
        {
          "output_type": "display_data",
          "data": {
            "text/plain": [
              "<Figure size 432x288 with 1 Axes>"
            ],
            "image/png": "[encoded data removed]"
          },
          "metadata": {
            "needs_background": "light"
          }
        }
      ]
    },
    {
      "cell_type": "markdown",
      "metadata": {
        "id": "r6xmjmJdFO6H"
      },
      "source": [
        "## **Aprendizado - Regressão Linear Simples - sem Sklearn**"
      ]
    },
    {
      "cell_type": "code",
      "metadata": {
        "id": "Yb-Af9pFbl5C"
      },
      "source": [
        "# Considerando y(i) = theta_1 x(i) + theta_0 + epsilon\n",
        "\n",
        "def prever(theta0, theta1, x_i):\n",
        "    return theta1*x_i + theta0\n",
        "\n",
        "def erro(theta0, theta1, x_i, y_i):\n",
        "    return y_i - prever(theta0, theta1, x_i)\n",
        "\n",
        "def soma_erro_quadratico_medio(previsto, y):\n",
        "    return np.array([(y_i - y_previsto) ** 2 for y_previsto, y_i in zip(previsto,y)]).mean()\n",
        "\n",
        "def minimos_quadrados(x, y):\n",
        "    theta1 = np.corrcoef(x,y)[0,1] * y.std() / x.std()\n",
        "    theta0 = y.mean() - theta1 * x.mean()\n",
        "    return theta1, theta0"
      ],
      "execution_count": null,
      "outputs": []
    },
    {
      "cell_type": "code",
      "metadata": {
        "id": "wbkd8ZuhcCwj",
        "outputId": "a846a0f7-3093-4199-eac6-ec29586bfcf0",
        "colab": {
          "base_uri": "https://localhost:8080/"
        }
      },
      "source": [
        "theta1, theta0 = minimos_quadrados(area, valor)\n",
        "print(theta1)\n",
        "print(theta0)"
      ],
      "execution_count": null,
      "outputs": [
        {
          "output_type": "stream",
          "name": "stdout",
          "text": [
            "1.273136797389051\n",
            "7.806465474455786\n"
          ]
        }
      ]
    },
    {
      "cell_type": "code",
      "metadata": {
        "id": "l0JHK_hhcJJj",
        "outputId": "77eec2cd-eb65-4871-9572-5059438cdd65",
        "colab": {
          "base_uri": "https://localhost:8080/"
        }
      },
      "source": [
        "soma_erro_quadratico_medio(prever(theta0, theta1, area), valor)"
      ],
      "execution_count": null,
      "outputs": [
        {
          "output_type": "execute_result",
          "data": {
            "text/plain": [
              "0.2922746317391325"
            ]
          },
          "metadata": {},
          "execution_count": 13
        }
      ]
    },
    {
      "cell_type": "markdown",
      "metadata": {
        "id": "pQS2jTYBDo5z"
      },
      "source": [
        "### **Visualizando graficamente**"
      ]
    },
    {
      "cell_type": "code",
      "metadata": {
        "id": "dZDDWG-6cLxT"
      },
      "source": [
        "import matplotlib.pyplot as plt\n",
        "import seaborn as sns\n",
        "%matplotlib inline"
      ],
      "execution_count": null,
      "outputs": []
    },
    {
      "cell_type": "code",
      "metadata": {
        "id": "RpeMMR4ecR5r",
        "outputId": "b7d92e62-ead8-4bac-b1f6-3928a138e452",
        "colab": {
          "base_uri": "https://localhost:8080/",
          "height": 294
        }
      },
      "source": [
        "ax = sns.scatterplot(x=area, y=valor)\n",
        "ax = sns.lineplot(x=area,y = prever(theta0, theta1, area), color = 'red')\n",
        "\n",
        "ax.set_title('Curva prevista nos dados dispersos')\n",
        "ax.set_xlabel('Área')\n",
        "ax.set_ylabel('Valor previsto com nosso modelo')\n",
        "plt.show()"
      ],
      "execution_count": null,
      "outputs": [
        {
          "output_type": "display_data",
          "data": {
            "text/plain": [
              "<Figure size 432x288 with 1 Axes>"
            ],
            "image/png": "[encoded data removed]"
          },
          "metadata": {
            "needs_background": "light"
          }
        }
      ]
    },
    {
      "cell_type": "code",
      "metadata": {
        "id": "9wrsW8fycVp8"
      },
      "source": [
        "def r_2(y_previsto, y):\n",
        "    \n",
        "    variancia_prevista = sum([(y[i] - y_previsto[i]) ** 2 for i in range(len(y))])\n",
        "    variancia_original = sum([(y[i] - y.mean()) ** 2 for i in range(len(y))])\n",
        "    \n",
        "    return 1 - variancia_prevista / variancia_original"
      ],
      "execution_count": null,
      "outputs": []
    },
    {
      "cell_type": "code",
      "metadata": {
        "id": "qsEd32I6cYut",
        "outputId": "a90b6ce9-1004-4716-8968-7548397f6906",
        "colab": {
          "base_uri": "https://localhost:8080/"
        }
      },
      "source": [
        "r_2(prever(theta0, theta1, area), valor)"
      ],
      "execution_count": null,
      "outputs": [
        {
          "output_type": "execute_result",
          "data": {
            "text/plain": [
              "0.641975652487156"
            ]
          },
          "metadata": {},
          "execution_count": 17
        }
      ]
    },
    {
      "cell_type": "code",
      "source": [
        "prever(theta0, theta1, np.log(72))"
      ],
      "metadata": {
        "colab": {
          "base_uri": "https://localhost:8080/"
        },
        "id": "e9BLR9dJ1xzU",
        "outputId": "c553df82-6070-4088-e4f7-8c22391ee079"
      },
      "execution_count": null,
      "outputs": [
        {
          "output_type": "execute_result",
          "data": {
            "text/plain": [
              "13.251246480722148"
            ]
          },
          "metadata": {},
          "execution_count": 19
        }
      ]
    },
    {
      "cell_type": "code",
      "metadata": {
        "id": "GdoFl4QIcbQE",
        "outputId": "f4528b48-bb20-4453-e615-5bdf61f21cba",
        "colab": {
          "base_uri": "https://localhost:8080/"
        }
      },
      "source": [
        "# funcao inversa ao log eh a funcao exp\n",
        "np.exp(prever(theta0, theta1, np.log(72)))"
      ],
      "execution_count": null,
      "outputs": [
        {
          "output_type": "execute_result",
          "data": {
            "text/plain": [
              "568778.5698688689"
            ]
          },
          "metadata": {},
          "execution_count": 18
        }
      ]
    },
    {
      "cell_type": "code",
      "metadata": {
        "id": "JIpUieTCcfTW"
      },
      "source": [
        "#Limitações do métodos dos minímos quadrados:\n",
        "'''\n",
        "def derivada(theta0, theta1, X, y):\n",
        "    dtheta0 = 0\n",
        "    dtheta1 = 0\n",
        "    \n",
        "    for x_i, y_i in zip(X, y):\n",
        "        dtheta0 += prever(theta0, theta1, x_i) - y_i\n",
        "        dtheta1 += (prever(theta0, theta1, x_i) - y_i)*x_i\n",
        "\n",
        "    dtheta0 /= 0.5*len(X)\n",
        "    dtheta1 /= 0.5*len(X)\n",
        "\n",
        "    return dtheta0, dtheta1\n",
        "'''\n",
        "\n",
        "def derivada(theta0, theta1, X, y):\n",
        "    dtheta0 = 2*np.array([prever(theta0, theta1, x_i) - y_i for x_i, y_i in zip(X, y)]).mean()\n",
        "    dtheta1 = 2*np.array([(prever(theta0, theta1, x_i) - y_i)*x_i for x_i, y_i in zip(X, y)]).mean()\n",
        "\n",
        "    return dtheta0, dtheta1"
      ],
      "execution_count": null,
      "outputs": []
    },
    {
      "cell_type": "code",
      "metadata": {
        "id": "S35NKLK3B3Fz"
      },
      "source": [
        "def gradienteDescendente(theta0, theta1, X, y, alpha):\n",
        "    dtheta0, dtheta1 = derivada(theta0, theta1, X, y)\n",
        "    theta0 = theta0 - (alpha * dtheta0)\n",
        "    theta1 = theta1 - (alpha * dtheta1)\n",
        "\n",
        "    return theta0, theta1"
      ],
      "execution_count": null,
      "outputs": []
    },
    {
      "cell_type": "code",
      "metadata": {
        "id": "vNsEZGIsB-Jz",
        "outputId": "aa8bdf5e-3174-4f30-f8fc-65fc0b522088",
        "colab": {
          "base_uri": "https://localhost:8080/"
        }
      },
      "source": [
        "theta0 = random.random()\n",
        "theta1 = random.random()\n",
        "    \n",
        "for i in range(10000):\n",
        "    if i % 1000 == 0:\n",
        "        print(soma_erro_quadratico_medio(prever(theta0, theta1,area), valor))\n",
        "    theta0, theta1 = gradienteDescendente(theta0, theta1, area, valor, 0.01)"
      ],
      "execution_count": null,
      "outputs": [
        {
          "output_type": "stream",
          "name": "stdout",
          "text": [
            "168.22116350027565\n",
            "0.6593029559163834\n",
            "0.49986004915533633\n",
            "0.4096816618926126\n",
            "0.3586781917821899\n",
            "0.3298314354554666\n",
            "0.31351616614591205\n",
            "0.30428850776975325\n",
            "0.2990694900819959\n",
            "0.29611769619076367\n"
          ]
        }
      ]
    },
    {
      "cell_type": "code",
      "metadata": {
        "id": "SmcD7VWACAmt",
        "outputId": "f14aa64d-cd5a-47f9-a591-5a88f53730e8",
        "colab": {
          "base_uri": "https://localhost:8080/"
        }
      },
      "source": [
        "print(theta0)\n",
        "print(theta1)"
      ],
      "execution_count": null,
      "outputs": [
        {
          "output_type": "stream",
          "name": "stdout",
          "text": [
            "7.424430958943951\n",
            "1.3545668505867476\n"
          ]
        }
      ]
    },
    {
      "cell_type": "code",
      "metadata": {
        "id": "2PR-rr9eCHMS",
        "outputId": "74972709-a54e-4ffa-9275-2b766e721e8b",
        "colab": {
          "base_uri": "https://localhost:8080/"
        }
      },
      "source": [
        "r_2(prever(theta0, theta1, area), valor)"
      ],
      "execution_count": null,
      "outputs": [
        {
          "output_type": "execute_result",
          "data": {
            "text/plain": [
              "0.6393131110901085"
            ]
          },
          "metadata": {},
          "execution_count": 24
        }
      ]
    },
    {
      "cell_type": "code",
      "metadata": {
        "id": "_lY8_JhlCI0c",
        "outputId": "4854e126-9a8b-4bc8-cdba-0ab801b37587",
        "colab": {
          "base_uri": "https://localhost:8080/"
        }
      },
      "source": [
        "#Quanto custa um apartamento de 72m2?\n",
        "np.exp(prever(theta0, theta1, np.log(72)))"
      ],
      "execution_count": null,
      "outputs": [
        {
          "output_type": "execute_result",
          "data": {
            "text/plain": [
              "549883.1690804189"
            ]
          },
          "metadata": {},
          "execution_count": 25
        }
      ]
    },
    {
      "cell_type": "code",
      "metadata": {
        "id": "64hei0mvCYz0"
      },
      "source": [
        "###Visualizando nossos resultados de forma gráfica"
      ],
      "execution_count": null,
      "outputs": []
    },
    {
      "cell_type": "code",
      "metadata": {
        "id": "bEOaWQfOCbMW",
        "outputId": "c3ce6ef6-a504-47a5-c704-18ffe1738e8e",
        "colab": {
          "base_uri": "https://localhost:8080/",
          "height": 294
        }
      },
      "source": [
        "ax = sns.scatterplot(x=area, y=valor)\n",
        "ax = sns.lineplot(x=area,y = prever(theta0, theta1, area), color = 'red')\n",
        "\n",
        "ax.set_title('Curva prevista nos dados dispersos')\n",
        "ax.set_xlabel('Área')\n",
        "ax.set_ylabel('Valor previsto com nosso modelo')\n",
        "plt.show()"
      ],
      "execution_count": null,
      "outputs": [
        {
          "output_type": "display_data",
          "data": {
            "text/plain": [
              "<Figure size 432x288 with 1 Axes>"
            ],
            "image/png": "[encoded data removed]"
          },
          "metadata": {
            "needs_background": "light"
          }
        }
      ]
    },
    {
      "cell_type": "markdown",
      "metadata": {
        "id": "TB_e82xbDTdO"
      },
      "source": [
        "# **Regressão Linear Múltipla - sem SkLearn**"
      ]
    },
    {
      "cell_type": "code",
      "metadata": {
        "id": "6a4lPzbsC02Y",
        "outputId": "caf13bc7-3f7f-4026-b03d-24c3ff9b73cc",
        "colab": {
          "base_uri": "https://localhost:8080/",
          "height": 206
        }
      },
      "source": [
        "dados = pd.read_csv('https://raw.githubusercontent.com/alanammorais/ml_Uniesp/master/datasets/Aula%2004/dadosHab.csv')\n",
        "dados.head()"
      ],
      "execution_count": null,
      "outputs": [
        {
          "output_type": "execute_result",
          "data": {
            "text/plain": [
              "     Valor  Area  Dist_Praia  Dist_Farmacia\n",
              "0  4600000   280    0.240925       0.793637\n",
              "1   900000   208    0.904136       0.134494\n",
              "2  2550000   170    0.059525       0.423318\n",
              "3   550000   100    2.883181       0.525064\n",
              "4  2200000   164    0.239758       0.192374"
            ],
            "text/html": [
              "\n",
              "  <div id=\"df-19ea3fce-4f9d-443a-9f98-d4267e040495\">\n",
              "    <div class=\"colab-df-container\">\n",
              "      <div>\n",
              "<style scoped>\n",
              "    .dataframe tbody tr th:only-of-type {\n",
              "        vertical-align: middle;\n",
              "    }\n",
              "\n",
              "    .dataframe tbody tr th {\n",
              "        vertical-align: top;\n",
              "    }\n",
              "\n",
              "    .dataframe thead th {\n",
              "        text-align: right;\n",
              "    }\n",
              "</style>\n",
              "<table border=\"1\" class=\"dataframe\">\n",
              "  <thead>\n",
              "    <tr style=\"text-align: right;\">\n",
              "      <th></th>\n",
              "      <th>Valor</th>\n",
              "      <th>Area</th>\n",
              "      <th>Dist_Praia</th>\n",
              "      <th>Dist_Farmacia</th>\n",
              "    </tr>\n",
              "  </thead>\n",
              "  <tbody>\n",
              "    <tr>\n",
              "      <th>0</th>\n",
              "      <td>4600000</td>\n",
              "      <td>280</td>\n",
              "      <td>0.240925</td>\n",
              "      <td>0.793637</td>\n",
              "    </tr>\n",
              "    <tr>\n",
              "      <th>1</th>\n",
              "      <td>900000</td>\n",
              "      <td>208</td>\n",
              "      <td>0.904136</td>\n",
              "      <td>0.134494</td>\n",
              "    </tr>\n",
              "    <tr>\n",
              "      <th>2</th>\n",
              "      <td>2550000</td>\n",
              "      <td>170</td>\n",
              "      <td>0.059525</td>\n",
              "      <td>0.423318</td>\n",
              "    </tr>\n",
              "    <tr>\n",
              "      <th>3</th>\n",
              "      <td>550000</td>\n",
              "      <td>100</td>\n",
              "      <td>2.883181</td>\n",
              "      <td>0.525064</td>\n",
              "    </tr>\n",
              "    <tr>\n",
              "      <th>4</th>\n",
              "      <td>2200000</td>\n",
              "      <td>164</td>\n",
              "      <td>0.239758</td>\n",
              "      <td>0.192374</td>\n",
              "    </tr>\n",
              "  </tbody>\n",
              "</table>\n",
              "</div>\n",
              "      <button class=\"colab-df-convert\" onclick=\"convertToInteractive('df-19ea3fce-4f9d-443a-9f98-d4267e040495')\"\n",
              "              title=\"Convert this dataframe to an interactive table.\"\n",
              "              style=\"display:none;\">\n",
              "        \n",
              "  <svg xmlns=\"http://www.w3.org/2000/svg\" height=\"24px\"viewBox=\"0 0 24 24\"\n",
              "       width=\"24px\">\n",
              "    <path d=\"M0 0h24v24H0V0z\" fill=\"none\"/>\n",
              "    <path d=\"M18.56 5.44l.94 2.06.94-2.06 2.06-.94-2.06-.94-.94-2.06-.94 2.06-2.06.94zm-11 1L8.5 8.5l.94-2.06 2.06-.94-2.06-.94L8.5 2.5l-.94 2.06-2.06.94zm10 10l.94 2.06.94-2.06 2.06-.94-2.06-.94-.94-2.06-.94 2.06-2.06.94z\"/><path d=\"M17.41 7.96l-1.37-1.37c-.4-.4-.92-.59-1.43-.59-.52 0-1.04.2-1.43.59L10.3 9.45l-7.72 7.72c-.78.78-.78 2.05 0 2.83L4 21.41c.39.39.9.59 1.41.59.51 0 1.02-.2 1.41-.59l7.78-7.78 2.81-2.81c.8-.78.8-2.07 0-2.86zM5.41 20L4 18.59l7.72-7.72 1.47 1.35L5.41 20z\"/>\n",
              "  </svg>\n",
              "      </button>\n",
              "      \n",
              "  <style>\n",
              "    .colab-df-container {\n",
              "      display:flex;\n",
              "      flex-wrap:wrap;\n",
              "      gap: 12px;\n",
              "    }\n",
              "\n",
              "    .colab-df-convert {\n",
              "      background-color: #E8F0FE;\n",
              "      border: none;\n",
              "      border-radius: 50%;\n",
              "      cursor: pointer;\n",
              "      display: none;\n",
              "      fill: #1967D2;\n",
              "      height: 32px;\n",
              "      padding: 0 0 0 0;\n",
              "      width: 32px;\n",
              "    }\n",
              "\n",
              "    .colab-df-convert:hover {\n",
              "      background-color: #E2EBFA;\n",
              "      box-shadow: 0px 1px 2px rgba(60, 64, 67, 0.3), 0px 1px 3px 1px rgba(60, 64, 67, 0.15);\n",
              "      fill: #174EA6;\n",
              "    }\n",
              "\n",
              "    [theme=dark] .colab-df-convert {\n",
              "      background-color: #3B4455;\n",
              "      fill: #D2E3FC;\n",
              "    }\n",
              "\n",
              "    [theme=dark] .colab-df-convert:hover {\n",
              "      background-color: #434B5C;\n",
              "      box-shadow: 0px 1px 3px 1px rgba(0, 0, 0, 0.15);\n",
              "      filter: drop-shadow(0px 1px 2px rgba(0, 0, 0, 0.3));\n",
              "      fill: #FFFFFF;\n",
              "    }\n",
              "  </style>\n",
              "\n",
              "      <script>\n",
              "        const buttonEl =\n",
              "          document.querySelector('#df-19ea3fce-4f9d-443a-9f98-d4267e040495 button.colab-df-convert');\n",
              "        buttonEl.style.display =\n",
              "          google.colab.kernel.accessAllowed ? 'block' : 'none';\n",
              "\n",
              "        async function convertToInteractive(key) {\n",
              "          const element = document.querySelector('#df-19ea3fce-4f9d-443a-9f98-d4267e040495');\n",
              "          const dataTable =\n",
              "            await google.colab.kernel.invokeFunction('convertToInteractive',\n",
              "                                                     [key], {});\n",
              "          if (!dataTable) return;\n",
              "\n",
              "          const docLinkHtml = 'Like what you see? Visit the ' +\n",
              "            '<a target=\"_blank\" href=https://colab.research.google.com/notebooks/data_table.ipynb>data table notebook</a>'\n",
              "            + ' to learn more about interactive tables.';\n",
              "          element.innerHTML = '';\n",
              "          dataTable['output_type'] = 'display_data';\n",
              "          await google.colab.output.renderOutput(dataTable, element);\n",
              "          const docLink = document.createElement('div');\n",
              "          docLink.innerHTML = docLinkHtml;\n",
              "          element.appendChild(docLink);\n",
              "        }\n",
              "      </script>\n",
              "    </div>\n",
              "  </div>\n",
              "  "
            ]
          },
          "metadata": {},
          "execution_count": 28
        }
      ]
    },
    {
      "cell_type": "code",
      "metadata": {
        "id": "t0oHUKRwDL2u"
      },
      "source": [
        "valor = np.log(dados['Valor'])\n",
        "area = np.log(dados['Area'])\n",
        "dist_Praia = np.log(dados['Dist_Praia'] + 1)\n",
        "dist_Farmacia = np.log(dados['Dist_Farmacia'] + 1)\n",
        "\n",
        "valor = np.array(valor)\n",
        "area = np.array(area)\n",
        "dist_Praia = np.array(dist_Praia)\n",
        "dist_Farmacia = np.array(dist_Farmacia)\n",
        "\n",
        "X = np.array([area, dist_Praia, dist_Farmacia]).T\n",
        "y = valor\n"
      ],
      "execution_count": null,
      "outputs": []
    },
    {
      "cell_type": "code",
      "metadata": {
        "id": "5wlr2BK7DXnR"
      },
      "source": [
        "def prever(theta, X):\n",
        "    return np.dot(X, theta)\n",
        "\n",
        "def gradienteDescendente(theta, X, y, alpha):\n",
        "    previsto = prever(theta, X)\n",
        "    erro = previsto - y\n",
        "    \n",
        "    gradiente = np.dot(X.T, erro) / (2*len(X))\n",
        "    \n",
        "    theta -= alpha*gradiente"
      ],
      "execution_count": null,
      "outputs": []
    },
    {
      "cell_type": "code",
      "metadata": {
        "id": "1gfnxNYKDqfb",
        "outputId": "d9904fc0-d737-43fa-993e-2bb3bfc231d4",
        "colab": {
          "base_uri": "https://localhost:8080/"
        }
      },
      "source": [
        "X = np.c_[np.ones(X.shape[0]), X] \n",
        "\n",
        "theta = np.random.rand(X.shape[1])\n",
        "\n",
        "for i in range(7000):\n",
        "    previsto = prever(theta, X)\n",
        "    custo = soma_erro_quadratico_medio(prever(theta, X), y)\n",
        "    \n",
        "    if i % 1000 == 0:\n",
        "        print(custo)\n",
        "    \n",
        "    gradienteDescendente(theta, X, y, 0.1)"
      ],
      "execution_count": null,
      "outputs": [
        {
          "output_type": "stream",
          "name": "stdout",
          "text": [
            "111.43065237266119\n",
            "0.4614473893537881\n",
            "0.26743969087045705\n",
            "0.1988848921383987\n",
            "0.1746465927998271\n",
            "0.1660766808747008\n",
            "0.16304662264723904\n"
          ]
        }
      ]
    },
    {
      "cell_type": "code",
      "metadata": {
        "id": "eIeXI20iDuQT",
        "outputId": "439023b5-87c3-4c12-bc2a-bc954c5f2aed",
        "colab": {
          "base_uri": "https://localhost:8080/"
        }
      },
      "source": [
        "theta"
      ],
      "execution_count": null,
      "outputs": [
        {
          "output_type": "execute_result",
          "data": {
            "text/plain": [
              "array([ 9.15986129,  1.08918078, -0.4765552 ,  0.0333127 ])"
            ]
          },
          "metadata": {},
          "execution_count": 34
        }
      ]
    },
    {
      "cell_type": "code",
      "metadata": {
        "id": "iq7dAt9oDv0k",
        "outputId": "64497adb-4ee4-45b8-b9be-b15319e21f50",
        "colab": {
          "base_uri": "https://localhost:8080/"
        }
      },
      "source": [
        "r_2(prever(theta, X), y)"
      ],
      "execution_count": null,
      "outputs": [
        {
          "output_type": "execute_result",
          "data": {
            "text/plain": [
              "0.801586966163397"
            ]
          },
          "metadata": {},
          "execution_count": 35
        }
      ]
    },
    {
      "cell_type": "code",
      "metadata": {
        "id": "rcrNquyyDyNx",
        "outputId": "a5e6bf5a-d0a1-4bfc-bfd5-f47748427844",
        "colab": {
          "base_uri": "https://localhost:8080/"
        }
      },
      "source": [
        "minha_area = np.log(72)\n",
        "minha_dist_Praia = np.log(0.5)\n",
        "minha_dist_Farmacia = np.log(0.1)\n",
        "\n",
        "np.exp(prever(theta, [1, minha_area, minha_dist_Praia, minha_dist_Farmacia]))"
      ],
      "execution_count": null,
      "outputs": [
        {
          "output_type": "execute_result",
          "data": {
            "text/plain": [
              "1291792.5365777777"
            ]
          },
          "metadata": {},
          "execution_count": 36
        }
      ]
    }
  ]
}